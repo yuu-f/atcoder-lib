{
 "cells": [
  {
   "cell_type": "markdown",
   "id": "51fcf2b8-f4f9-4b47-b8a0-1f64ca570946",
   "metadata": {},
   "source": [
    "# Python メモ"
   ]
  },
  {
   "cell_type": "markdown",
   "id": "2dd7da15-899f-41db-a4e1-c297b7fa928f",
   "metadata": {},
   "source": [
    "スライス"
   ]
  },
  {
   "cell_type": "code",
   "execution_count": 1,
   "id": "562f9ea1-a6ab-4081-83fd-10f55540e47e",
   "metadata": {},
   "outputs": [
    {
     "name": "stdout",
     "output_type": "stream",
     "text": [
      "[4, 10, 6, 7, 1, 9, 5]\n",
      "[8, 2, 3]\n",
      "[3, 4, 10]\n",
      "[5]\n",
      "[7, 1]\n"
     ]
    }
   ],
   "source": [
    "# リスト\n",
    "H = [8,2,3,4,10,6,7,1,9,5]\n",
    "# (0-indexed)\n",
    "print(H[3:]) # [3:) \n",
    "print(H[:3]) # [0:3)\n",
    "print(H[2:5]) # [2:5) \n",
    "print(H[-1:]) # [len(H)-1:)\n",
    "print(H[-4:-2]) # [len(H)-4:len(H)-2)"
   ]
  },
  {
   "cell_type": "code",
   "execution_count": 2,
   "id": "d1487906-673b-4de7-8e29-2728cb3b1bbc",
   "metadata": {},
   "outputs": [
    {
     "name": "stdout",
     "output_type": "stream",
     "text": [
      "defghijk\n",
      "cde\n"
     ]
    }
   ],
   "source": [
    "# 文字列\n",
    "S = \"abcdefghijk\"\n",
    "print(S[3:]) # [3:] (0-indexed)\n",
    "print(S[2:5]) # [2:5) (0-indexed)"
   ]
  },
  {
   "cell_type": "code",
   "execution_count": 3,
   "id": "4604816f-63e2-463c-9724-ff1f6d82dc24",
   "metadata": {},
   "outputs": [
    {
     "name": "stdout",
     "output_type": "stream",
     "text": [
      "[0, 2, 4, 6, 8, 10]\n",
      "[1, 3, 5, 7, 9]\n",
      "[10, 9, 8, 7, 6, 5, 4, 3, 2, 1, 0]\n"
     ]
    }
   ],
   "source": [
    "# ステップを指定する\n",
    "# sequence[start:stop:step]\n",
    "H = [0, 1, 2, 3, 4, 5, 6, 7, 8, 9, 10]\n",
    "print(H[::2])\n",
    "print(H[1::2])\n",
    "print(H[::-1]) # 反転"
   ]
  },
  {
   "cell_type": "code",
   "execution_count": 4,
   "id": "02b9f0d5-bd69-4c77-b755-17d617b1a024",
   "metadata": {},
   "outputs": [
    {
     "name": "stdout",
     "output_type": "stream",
     "text": [
      "1 5 3 2\n",
      "4 8 6 5\n"
     ]
    }
   ],
   "source": [
    "# 二次元配列の列のみ取り出したい場合、numpy が便利\n",
    "import numpy as np\n",
    "H2 = [[1,2,3,4],\n",
    "      [5,6,7,8],\n",
    "      [3,4,5,6],\n",
    "      [2,3,4,5]]\n",
    "H2 = np.array(H2)\n",
    "print(*H2[:,0]) # 列 0 のみ (0-indexed)\n",
    "print(*H2[:,3]) # 列 3 のみ (0-indexed)"
   ]
  },
  {
   "cell_type": "code",
   "execution_count": null,
   "id": "851a8217-a19e-46b7-a2d8-c5ae1f5d68f8",
   "metadata": {},
   "outputs": [],
   "source": []
  },
  {
   "cell_type": "markdown",
   "id": "ba5f7f69-b3fa-42ac-ba63-1ad700d55dbe",
   "metadata": {
    "jp-MarkdownHeadingCollapsed": true,
    "tags": []
   },
   "source": [
    "リスト内の最小/最大値のインデックスを返す"
   ]
  },
  {
   "cell_type": "code",
   "execution_count": 5,
   "id": "1ba34a95-e71a-42c7-b4bc-bf86acf97949",
   "metadata": {},
   "outputs": [
    {
     "name": "stdout",
     "output_type": "stream",
     "text": [
      "4\n",
      "7\n"
     ]
    }
   ],
   "source": [
    "import numpy as np\n",
    "H = [8,2,3,4,10,6,7,1,9,5]\n",
    "print(np.argmax(H))\n",
    "print(np.argmin(H))"
   ]
  },
  {
   "cell_type": "code",
   "execution_count": null,
   "id": "615a7920-ba72-4f51-a6ce-97b59c3e24dc",
   "metadata": {},
   "outputs": [],
   "source": []
  },
  {
   "cell_type": "markdown",
   "id": "92761a3f-46e3-4b60-bc32-63c428a55ea3",
   "metadata": {},
   "source": [
    "フォーマット済み文字列リテラル\n",
    "> https://note.nkmk.me/python-f-strings/"
   ]
  },
  {
   "cell_type": "code",
   "execution_count": 6,
   "id": "820a1f07-cd2f-491b-b0be-9be48e93bc72",
   "metadata": {},
   "outputs": [
    {
     "name": "stdout",
     "output_type": "stream",
     "text": [
      "00005\n",
      "00025\n",
      "1234567\n"
     ]
    }
   ],
   "source": [
    "# 0埋め\n",
    "N = 5; M = 25; P = 1234567\n",
    "print(f\"{N:05}\") # 5 桁\n",
    "print(f\"{M:05}\")\n",
    "print(f\"{P:05}\")"
   ]
  },
  {
   "cell_type": "code",
   "execution_count": 7,
   "id": "b5f476c2-efbd-4a5c-b01e-e3d4da0d6c0e",
   "metadata": {},
   "outputs": [
    {
     "name": "stdout",
     "output_type": "stream",
     "text": [
      "1,234,567\n"
     ]
    }
   ],
   "source": [
    "# 桁区切り\n",
    "N = 1234567\n",
    "print(f\"{N:,}\")"
   ]
  },
  {
   "cell_type": "code",
   "execution_count": 8,
   "id": "d4402e94-ed84-4381-81bd-d6873381a05d",
   "metadata": {},
   "outputs": [
    {
     "name": "stdout",
     "output_type": "stream",
     "text": [
      "bin: 1100\n",
      "oct: 14\n",
      "hex: c\n",
      "hex: C\n"
     ]
    }
   ],
   "source": [
    "# 2進数、8進数、16進数\n",
    "N = 12\n",
    "print(f\"bin: {N:b}\") # 2 進数\n",
    "print(f\"oct: {N:o}\") # 8 進数\n",
    "print(f\"hex: {N:x}\") # 16 進数小文字\n",
    "print(f\"hex: {N:X}\") # 16 進数大文字"
   ]
  },
  {
   "cell_type": "code",
   "execution_count": 9,
   "id": "725bcb0d-3a77-47b7-b87f-b236ca791a3d",
   "metadata": {},
   "outputs": [
    {
     "name": "stdout",
     "output_type": "stream",
     "text": [
      "123.457\n",
      "123.46\n"
     ]
    }
   ],
   "source": [
    "# 小数点以下の有効桁\n",
    "F = 123.456789\n",
    "print(f'{F:.3f}') # 小数点以下のみ、四捨五入\n",
    "print(f'{F:.5g}') # 整数部含む"
   ]
  },
  {
   "cell_type": "code",
   "execution_count": 10,
   "id": "f6a0f560-b48e-4ad9-9beb-b0bcf02157a0",
   "metadata": {},
   "outputs": [
    {
     "name": "stdout",
     "output_type": "stream",
     "text": [
      "1.2346e+02\n",
      "1.235E+02\n"
     ]
    }
   ],
   "source": [
    "# 指数表記\n",
    "F = 123.456789\n",
    "print(f'{F:.4e}') \n",
    "print(f'{F:.3E}') "
   ]
  },
  {
   "cell_type": "code",
   "execution_count": null,
   "id": "8da45079-2d16-4026-bda4-7b28af19d287",
   "metadata": {},
   "outputs": [],
   "source": [
    "3 3\n",
    "2 1 2\n",
    "2 2 3\n",
    "2 1 3\n"
   ]
  }
 ],
 "metadata": {
  "kernelspec": {
   "display_name": "Python 3 (ipykernel)",
   "language": "python",
   "name": "python3"
  },
  "language_info": {
   "codemirror_mode": {
    "name": "ipython",
    "version": 3
   },
   "file_extension": ".py",
   "mimetype": "text/x-python",
   "name": "python",
   "nbconvert_exporter": "python",
   "pygments_lexer": "ipython3",
   "version": "3.9.12"
  }
 },
 "nbformat": 4,
 "nbformat_minor": 5
}
