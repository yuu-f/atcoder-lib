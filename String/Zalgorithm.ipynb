{
 "cells": [
  {
   "cell_type": "markdown",
   "id": "1b16c49b-2629-454d-8939-13ec58107028",
   "metadata": {
    "tags": []
   },
   "source": [
    "# Z-algorithm"
   ]
  },
  {
   "cell_type": "markdown",
   "id": "252f34a5-7208-4592-bc01-ba5c1c565e01",
   "metadata": {},
   "source": [
    "文字列 S について、S[0,|S|−1] と S[i:|S|−1] の最長共通接頭辞の長さを求める。\n",
    "> https://qiita.com/Pro_ktmr/items/16904c9570aa0953bf05"
   ]
  },
  {
   "cell_type": "markdown",
   "id": "af0ea3e7-77d7-47c5-92c4-c624457aaf24",
   "metadata": {},
   "source": [
    "## 計算量\n",
    "O(N)"
   ]
  },
  {
   "cell_type": "markdown",
   "id": "7aafeec5-a821-4f42-9ef8-0d2c18e0363e",
   "metadata": {
    "tags": []
   },
   "source": [
    "## 実装"
   ]
  },
  {
   "cell_type": "markdown",
   "id": "72ff7e53-f780-45ae-ad97-87a2b8931e7e",
   "metadata": {},
   "source": [
    "- 各 i ごとに Z[i] を調べる\n",
    "- 一致しなくなったら、一致している範囲に Z をコピーする\n",
    "- コピーした Z の値が探索済みの範囲を超える場合は、i をその位置に移動し探索を再開\n",
    "- すでに一致がわかっている範囲は比較処理を飛ばす"
   ]
  },
  {
   "cell_type": "code",
   "execution_count": 1,
   "id": "1b0a57fa-5e93-40c1-8cce-0457fc388322",
   "metadata": {},
   "outputs": [],
   "source": [
    "# 最長共通接頭辞の長さのリストを返す\n",
    "def z_algo(S):\n",
    "    N = len(S)\n",
    "    # i: 探索開始位置\n",
    "    i = 1\n",
    "    # j: 各探索時に一致することがわかっている文字数\n",
    "    j = 0\n",
    "    # Z: S[i:|S|−1] の最長共通接頭辞の長さを格納\n",
    "    Z = [0] * N\n",
    "    Z[0] = L = len(S)\n",
    "    \n",
    "    while i < L:\n",
    "        # すでに一致することがわかっている文字数を飛ばす\n",
    "        # i+j から一致するまで比較\n",
    "        while i+j < L and S[j] == S[i+j]:\n",
    "            j += 1\n",
    "        \n",
    "        # 一致する文字数がない場合、Z[i] = 0 のまま次の点から探索再開\n",
    "        if j == 0:\n",
    "            i += 1\n",
    "            continue\n",
    "        \n",
    "        # 探索済みの範囲にコピーする処理\n",
    "        Z[i] = j\n",
    "        k = 1\n",
    "        # 未探索の範囲で一致する可能性が残る場合はコピーを止める\n",
    "        while k < j and k + Z[k] < j:\n",
    "            Z[i+k] = Z[k]\n",
    "            k += 1\n",
    "        # 探索開始位置をスライドする\n",
    "        i += k\n",
    "        # 開始位置を i にスライドした場合に、すでに一致することがわかっている文字数\n",
    "        j -= k\n",
    "        \n",
    "    return Z"
   ]
  },
  {
   "cell_type": "markdown",
   "id": "edadcdb9-fba2-4fdf-a5d8-1e7d299582ef",
   "metadata": {
    "tags": []
   },
   "source": [
    "## [使用例 1](https://atcoder.jp/contests/abc141/tasks/abc141_e)\n",
    "S の連続する部分文字列として重ならずに 2 回以上現れる文字列のうち、最長の文字列の長さを答える。"
   ]
  },
  {
   "cell_type": "code",
   "execution_count": 2,
   "id": "ee4c7a75-5f10-476c-bb9f-823f50a3e619",
   "metadata": {},
   "outputs": [],
   "source": [
    "def solve(S):\n",
    "    ans=0\n",
    "    for i in range(len(S)-1):\n",
    "        z=z_algo(S[i:])\n",
    "        for j in range(len(z)):\n",
    "            # 重ならずに一致する最大値を min(j,z[j]) で求める\n",
    "            # print(i,z,j,z[j])\n",
    "            ans = max(ans,min(j,z[j]))\n",
    "    return ans"
   ]
  },
  {
   "cell_type": "code",
   "execution_count": 3,
   "id": "f30a59bd-4919-4f0f-8fae-60ce312f0f1c",
   "metadata": {},
   "outputs": [
    {
     "data": {
      "text/plain": [
       "2"
      ]
     },
     "execution_count": 3,
     "metadata": {},
     "output_type": "execute_result"
    }
   ],
   "source": [
    "S=\"ababa\"\n",
    "solve(S)"
   ]
  },
  {
   "cell_type": "code",
   "execution_count": 4,
   "id": "aea3a882-6aa4-40f4-9088-490cde08ffb5",
   "metadata": {},
   "outputs": [
    {
     "data": {
      "text/plain": [
       "5"
      ]
     },
     "execution_count": 4,
     "metadata": {},
     "output_type": "execute_result"
    }
   ],
   "source": [
    "S=\"strangeorange\"\n",
    "solve(S)"
   ]
  },
  {
   "cell_type": "code",
   "execution_count": null,
   "id": "9f035a3c-7976-4b6f-8c5f-9826d076743d",
   "metadata": {},
   "outputs": [],
   "source": []
  }
 ],
 "metadata": {
  "kernelspec": {
   "display_name": "Python 3 (ipykernel)",
   "language": "python",
   "name": "python3"
  },
  "language_info": {
   "codemirror_mode": {
    "name": "ipython",
    "version": 3
   },
   "file_extension": ".py",
   "mimetype": "text/x-python",
   "name": "python",
   "nbconvert_exporter": "python",
   "pygments_lexer": "ipython3",
   "version": "3.9.12"
  }
 },
 "nbformat": 4,
 "nbformat_minor": 5
}
