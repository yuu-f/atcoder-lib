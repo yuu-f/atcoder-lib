{
 "cells": [
  {
   "cell_type": "markdown",
   "id": "1b16c49b-2629-454d-8939-13ec58107028",
   "metadata": {
    "tags": []
   },
   "source": [
    "# Rolling Hash"
   ]
  },
  {
   "cell_type": "markdown",
   "id": "252f34a5-7208-4592-bc01-ba5c1c565e01",
   "metadata": {},
   "source": [
    "文字列のハッシュ値を比較することで、文字列比較を高速に行う手法。<br>\n",
    "ハッシュは衝突する可能性もあることに注意。\n",
    "> https://kyoroid.github.io/algorithm/string/rolling_hash.html"
   ]
  },
  {
   "cell_type": "markdown",
   "id": "af0ea3e7-77d7-47c5-92c4-c624457aaf24",
   "metadata": {},
   "source": [
    "## 計算量\n",
    "O(N+M)"
   ]
  },
  {
   "cell_type": "markdown",
   "id": "7aafeec5-a821-4f42-9ef8-0d2c18e0363e",
   "metadata": {
    "tags": []
   },
   "source": [
    "## 実装"
   ]
  },
  {
   "cell_type": "code",
   "execution_count": 5,
   "id": "1b0a57fa-5e93-40c1-8cce-0457fc388322",
   "metadata": {},
   "outputs": [],
   "source": [
    "class RollingHash():\n",
    "    # 任意の基数と法でハッシュを生成する\n",
    "    def __init__(self, S: str, b=3491 , MOD=999999937):\n",
    "        N = len(S)\n",
    "        self.MOD = MOD\n",
    "        self.b = b\n",
    "        \n",
    "        # S[1,i] のハッシュ値 h[1,i] を計算 (i=0,1,2,...,N-1)\n",
    "        self.h = [0] * (N+1)\n",
    "        for i in range(N):\n",
    "            # ord(c) で文字 c の Unicode を取得\n",
    "            c = ord(S[i])\n",
    "            # S[1,i] は文字列 S[1,i-1] の後ろに c=S[i] を追加した値\n",
    "            self.h[i+1] = (self.h[i] * b + c) % self.MOD\n",
    "            \n",
    "        # b の累乗を前計算して格納しておく\n",
    "        self.power = [None] * (N+1)\n",
    "        self.power[0] = 1\n",
    "        for i in range(N):\n",
    "            self.power[i+1] = self.power[i] * self.b % MOD\n",
    "    \n",
    "    # S[l, r] のハッシュを求める\n",
    "    # 注意：l, r はインデックス番号 + 1 (1 ~ N の範囲)\n",
    "    def get(self, l, r):\n",
    "        return (self.h[r] - self.h[l-1] * self.power[r-(l-1)]) % self.MOD"
   ]
  },
  {
   "cell_type": "markdown",
   "id": "edadcdb9-fba2-4fdf-a5d8-1e7d299582ef",
   "metadata": {
    "tags": []
   },
   "source": [
    "## [使用例 1](https://atcoder.jp/contests/tessoku-book/tasks/tessoku_book_bd)\n",
    "文字列の比較。S[a,b] と S[c,d] が一致するかどうか。"
   ]
  },
  {
   "cell_type": "code",
   "execution_count": 23,
   "id": "ee4c7a75-5f10-476c-bb9f-823f50a3e619",
   "metadata": {},
   "outputs": [
    {
     "name": "stdout",
     "output_type": "stream",
     "text": [
      "True\n",
      "False\n"
     ]
    }
   ],
   "source": [
    "S=\"abcbabc\"\n",
    "rh=RollingHash(S)\n",
    "print(rh.get(1,3)==rh.get(5,7))\n",
    "print(rh.get(1,2)==rh.get(6,7))"
   ]
  },
  {
   "cell_type": "code",
   "execution_count": null,
   "id": "f30a59bd-4919-4f0f-8fae-60ce312f0f1c",
   "metadata": {},
   "outputs": [],
   "source": []
  }
 ],
 "metadata": {
  "kernelspec": {
   "display_name": "Python 3 (ipykernel)",
   "language": "python",
   "name": "python3"
  },
  "language_info": {
   "codemirror_mode": {
    "name": "ipython",
    "version": 3
   },
   "file_extension": ".py",
   "mimetype": "text/x-python",
   "name": "python",
   "nbconvert_exporter": "python",
   "pygments_lexer": "ipython3",
   "version": "3.9.12"
  }
 },
 "nbformat": 4,
 "nbformat_minor": 5
}
