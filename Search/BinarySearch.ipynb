{
 "cells": [
  {
   "cell_type": "markdown",
   "id": "1b16c49b-2629-454d-8939-13ec58107028",
   "metadata": {
    "tags": []
   },
   "source": [
    "# 二分探索(Binary Search)"
   ]
  },
  {
   "cell_type": "markdown",
   "id": "7aafeec5-a821-4f42-9ef8-0d2c18e0363e",
   "metadata": {
    "tags": []
   },
   "source": [
    "## bisect"
   ]
  },
  {
   "cell_type": "markdown",
   "id": "a850f50a-3750-47d5-9674-f195d0b3e621",
   "metadata": {
    "tags": []
   },
   "source": [
    "pythonには`bisect`という標準ライブラリがある。<br>\n",
    "> [bisect](https://docs.python.org/ja/3/library/bisect.html)<br>\n",
    "> このモジュールは、挿入の度にリストをソートすることなく、リストをソートされた順序に保つことをサポートします。大量の比較操作を伴うような、アイテムがたくさんあるリストでは、より一般的なアプローチに比べて、パフォーマンスが向上します。動作に基本的な二分法アルゴリズムを使っているので、 bisect と呼ばれています。ソースコードはこのアルゴリズムの実例として一番役に立つかもしれません (境界条件はすでに正しいです!)。"
   ]
  },
  {
   "cell_type": "markdown",
   "id": "87f67019-f2be-46f0-9216-5144228c9d93",
   "metadata": {
    "tags": []
   },
   "source": [
    "### 関数"
   ]
  },
  {
   "cell_type": "code",
   "execution_count": 1,
   "id": "1b0a57fa-5e93-40c1-8cce-0457fc388322",
   "metadata": {},
   "outputs": [],
   "source": [
    "import bisect\n",
    "#  0,1,2,3,4,5,6,7,8,9\n",
    "A=[1,2,2,4,4,4,5,8,9,9] #昇順ソート済み\n",
    "x=4"
   ]
  },
  {
   "cell_type": "markdown",
   "id": "3b350cea-3ecb-479f-b45e-aa54ecd74c5c",
   "metadata": {},
   "source": [
    "`bisect.bisect_left(a, x, lo=0, hi=len(a), *, key=None)` <br>\n",
    "昇順ソート済みのリストaに対して値xを二分探索し、左側の挿入点を返す。"
   ]
  },
  {
   "cell_type": "code",
   "execution_count": 2,
   "id": "e1b41486-0554-42b8-acbe-66192376f6de",
   "metadata": {},
   "outputs": [
    {
     "data": {
      "text/plain": [
       "3"
      ]
     },
     "execution_count": 2,
     "metadata": {},
     "output_type": "execute_result"
    }
   ],
   "source": [
    "bisect.bisect_left(A,x)"
   ]
  },
  {
   "cell_type": "markdown",
   "id": "ed72d167-9533-440d-a9a6-b5c0f143fa6e",
   "metadata": {},
   "source": [
    "`bisect.bisect_right(a, x, lo=0, hi=len(a), *, key=None)` <br>\n",
    "`bisect.bisect(a, x, lo=0, hi=len(a), *, key=None)` <br>\n",
    "昇順ソート済みのリストaに対して値xを二分探索し、右側の挿入点を返す。"
   ]
  },
  {
   "cell_type": "code",
   "execution_count": 3,
   "id": "a70c7c32-a054-467f-8525-fe243f47d205",
   "metadata": {},
   "outputs": [
    {
     "data": {
      "text/plain": [
       "6"
      ]
     },
     "execution_count": 3,
     "metadata": {},
     "output_type": "execute_result"
    }
   ],
   "source": [
    "bisect.bisect_right(A,x)"
   ]
  },
  {
   "cell_type": "markdown",
   "id": "46974f0d-2d0d-48b3-855c-463ae88305a0",
   "metadata": {},
   "source": [
    "`bisect.insort_left(a, x, lo=0, hi=len(a), *, key=None)`<br>\n",
    "ソート順を保ちつつ、リストaに値xを挿入"
   ]
  },
  {
   "cell_type": "code",
   "execution_count": 4,
   "id": "cbdf6a19-9cdf-44ca-aace-3f2a87f641e9",
   "metadata": {},
   "outputs": [
    {
     "data": {
      "text/plain": [
       "[1, 2, 2, 3, 4, 5, 8, 9]"
      ]
     },
     "execution_count": 4,
     "metadata": {},
     "output_type": "execute_result"
    }
   ],
   "source": [
    "#  0,1,2,3,4,5,6,7,8,9\n",
    "B=[1,2,2,4,5,8,9] #昇順ソート済み\n",
    "x=3\n",
    "bisect.insort_left(B,x)\n",
    "B"
   ]
  },
  {
   "cell_type": "markdown",
   "id": "edadcdb9-fba2-4fdf-a5d8-1e7d299582ef",
   "metadata": {
    "tags": []
   },
   "source": [
    "### 使用例"
   ]
  },
  {
   "cell_type": "markdown",
   "id": "6ddb9981-62de-4fa9-b149-03fb55e7254f",
   "metadata": {},
   "source": [
    "試験成績の等級を表す文字を調べる。<br>\n",
    "区切り点は 90 以上は 'A'、 80 から 89 は 'B'、など。"
   ]
  },
  {
   "cell_type": "code",
   "execution_count": 5,
   "id": "0cb77969-d6e4-49ba-8b5b-8c566c26e720",
   "metadata": {},
   "outputs": [
    {
     "data": {
      "text/plain": [
       "['F', 'A', 'C', 'D', 'B', 'B', 'A']"
      ]
     },
     "execution_count": 5,
     "metadata": {},
     "output_type": "execute_result"
    }
   ],
   "source": [
    "Scores=[33, 99, 77, 70, 89, 90, 100]\n",
    "def grade(score, breakpoints=[60, 70, 80, 90], grades='FDCBA'):\n",
    "    i = bisect.bisect_left(breakpoints, score)\n",
    "    return grades[i]\n",
    "\n",
    "[grade(s) for s in Scores]"
   ]
  },
  {
   "cell_type": "code",
   "execution_count": null,
   "id": "f30a59bd-4919-4f0f-8fae-60ce312f0f1c",
   "metadata": {},
   "outputs": [],
   "source": []
  },
  {
   "cell_type": "code",
   "execution_count": null,
   "id": "0d01d209-c065-4435-adde-a3addb70d9d1",
   "metadata": {},
   "outputs": [],
   "source": []
  }
 ],
 "metadata": {
  "kernelspec": {
   "display_name": "Python 3 (ipykernel)",
   "language": "python",
   "name": "python3"
  },
  "language_info": {
   "codemirror_mode": {
    "name": "ipython",
    "version": 3
   },
   "file_extension": ".py",
   "mimetype": "text/x-python",
   "name": "python",
   "nbconvert_exporter": "python",
   "pygments_lexer": "ipython3",
   "version": "3.9.12"
  }
 },
 "nbformat": 4,
 "nbformat_minor": 5
}
