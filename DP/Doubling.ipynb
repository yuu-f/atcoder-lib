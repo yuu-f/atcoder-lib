{
 "cells": [
  {
   "cell_type": "markdown",
   "id": "1b16c49b-2629-454d-8939-13ec58107028",
   "metadata": {
    "tags": []
   },
   "source": [
    "# ダブリング"
   ]
  },
  {
   "cell_type": "markdown",
   "id": "c98e8416-f616-4df8-b0d4-e3eef59fe209",
   "metadata": {},
   "source": [
    "> 全体の要素数が $N$ 個あって、それぞれの要素について、その要素から 1 回遷移(移動)したときの移動先が定まっているとする。<br>\n",
    "> このとき、$K$ 回遷移したときの到達点」を高速に求めるアルゴリズムの1つがダブリングである。<br>\n",
    "> https://zenn.dev/fjnkt98/articles/3c0c21778b6101"
   ]
  },
  {
   "cell_type": "markdown",
   "id": "26b087d6-7244-4fe1-b72a-7e97ff70b983",
   "metadata": {
    "jp-MarkdownHeadingCollapsed": true,
    "tags": []
   },
   "source": [
    "## 計算量\n",
    "- 前計算: $O(NlogK)$\n",
    "- クエリ処理: $O(logK)$"
   ]
  },
  {
   "cell_type": "markdown",
   "id": "7aafeec5-a821-4f42-9ef8-0d2c18e0363e",
   "metadata": {
    "tags": []
   },
   "source": [
    "## 実装\n",
    "- 遷移数 $i$ $(1 \\leq i \\leq logK)$\n",
    "- 要素数 $j$ $(1 \\leq j \\leq N)$\n",
    "- $j$ 番目の要素から $2^i$ 遷移した場合の位置を前計算\n",
    "- $dp[i][j] = dp[i-1][dp[i-1][j]]$\n",
    "- $K=2^{c_0}+2^{c_1}+...+2^{c_k}$ $(0 \\leq c_0 \\lt c_1 ... c_k)$ に対して、$A=dp[c_0][A]$ から遷移させて $K$ 回後の遷移先を導く"
   ]
  },
  {
   "cell_type": "code",
   "execution_count": 12,
   "id": "44d389c5-2299-47d2-8437-8ba074b378c5",
   "metadata": {},
   "outputs": [],
   "source": [
    "# 最大 2^(33) 遷移する \n",
    "K = 33 \n",
    "\n",
    "# N: 要素数、A: 初回の遷移先\n",
    "def doubling(N: int,A: list) -> list:\n",
    "    # DP 初期化\n",
    "    dp = [[0]*(N+1) for _ in range(K+1)]\n",
    "    dp[0] = A\n",
    "    for i in range(1,K+1):\n",
    "        for j in range(N+1):\n",
    "            dp[i][j]=dp[i-1][dp[i-1][j]]\n",
    "    \n",
    "    return dp\n",
    "\n",
    "# q: 遷移の開始地点(1≤q≤𝑁)、k: k回後の遷移先を求めたい\n",
    "def query(dp: list,q: int,k: int) -> int:\n",
    "    # a: 遷移先\n",
    "    a = q\n",
    "    for c in range(K+1):\n",
    "        if k & (1<<c):\n",
    "            a = dp[c][a]\n",
    "    return a"
   ]
  },
  {
   "cell_type": "markdown",
   "id": "ddcff06c-6711-44c1-8454-c3fba5db4214",
   "metadata": {
    "tags": []
   },
   "source": [
    "## [使用例 1](https://atcoder.jp/contests/tessoku-book/tasks/tessoku_book_be)"
   ]
  },
  {
   "cell_type": "markdown",
   "id": "f18ece8e-b742-4bbf-b52e-2da5856a0e9b",
   "metadata": {},
   "source": [
    "$N$ 個の穴がある。蟻は穴 $i$ から翌日穴 $A_i$ に移動する。$Y$ 日後にはどの穴にいるか？\n",
    "$Q$ 個のクエリに答える。<br>\n",
    "$O(YQ)$ で愚直に計算するとTLEする。"
   ]
  },
  {
   "cell_type": "code",
   "execution_count": 13,
   "id": "56c0771e-738f-467d-a039-15ed5ce84aa9",
   "metadata": {},
   "outputs": [
    {
     "name": "stdout",
     "output_type": "stream",
     "text": [
      "2\n",
      "1\n",
      "3\n",
      "6\n"
     ]
    }
   ],
   "source": [
    "N=7\n",
    "A=[2, 4, 1, 7, 6, 5, 3]\n",
    "Queries=[[1, 1], [1, 5], [2, 13], [5, 999999999]]\n",
    "\n",
    "# インデックス 0 を埋める\n",
    "A = [0] + A\n",
    "dp = doubling(N, A)\n",
    "for q,k in Queries:\n",
    "    ans = query(dp, q, k)\n",
    "    print(ans)"
   ]
  },
  {
   "cell_type": "code",
   "execution_count": 14,
   "id": "b94dd3c6-9eef-4ab1-8021-dfa9f521f9ef",
   "metadata": {},
   "outputs": [
    {
     "data": {
      "text/plain": [
       "[0, 2, 4, 1, 7, 6, 5, 3]"
      ]
     },
     "execution_count": 14,
     "metadata": {},
     "output_type": "execute_result"
    }
   ],
   "source": [
    "A"
   ]
  },
  {
   "cell_type": "code",
   "execution_count": null,
   "id": "3e2cc25d-8b02-49df-8693-d3a74224aa9f",
   "metadata": {},
   "outputs": [],
   "source": []
  },
  {
   "cell_type": "code",
   "execution_count": null,
   "id": "094e23be-9922-40e9-a895-d3b6334711ee",
   "metadata": {},
   "outputs": [],
   "source": []
  }
 ],
 "metadata": {
  "kernelspec": {
   "display_name": "Python 3 (ipykernel)",
   "language": "python",
   "name": "python3"
  },
  "language_info": {
   "codemirror_mode": {
    "name": "ipython",
    "version": 3
   },
   "file_extension": ".py",
   "mimetype": "text/x-python",
   "name": "python",
   "nbconvert_exporter": "python",
   "pygments_lexer": "ipython3",
   "version": "3.9.12"
  }
 },
 "nbformat": 4,
 "nbformat_minor": 5
}
