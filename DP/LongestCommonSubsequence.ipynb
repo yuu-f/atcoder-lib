{
 "cells": [
  {
   "cell_type": "markdown",
   "id": "1b16c49b-2629-454d-8939-13ec58107028",
   "metadata": {
    "tags": []
   },
   "source": [
    "# 最長共通部分列(Longest Common Subsequence, LCS)"
   ]
  },
  {
   "cell_type": "markdown",
   "id": "c98e8416-f616-4df8-b0d4-e3eef59fe209",
   "metadata": {},
   "source": [
    "2つの文字列 $S[1,...,m]$ , $T[1,…,n]$ において、双方に現れる部分文字列の中で最長の文字列。"
   ]
  },
  {
   "cell_type": "markdown",
   "id": "26b087d6-7244-4fe1-b72a-7e97ff70b983",
   "metadata": {
    "jp-MarkdownHeadingCollapsed": true,
    "tags": []
   },
   "source": [
    "## 計算量\n",
    "$O(NM)$"
   ]
  },
  {
   "cell_type": "markdown",
   "id": "7aafeec5-a821-4f42-9ef8-0d2c18e0363e",
   "metadata": {
    "tags": []
   },
   "source": [
    "## 実装\n",
    "- $S[i]=T[j]$ の時は解にその文字を追加し、 $i-1→i$, $j-1→j$ から遷移\n",
    "- それ以外は $max(dp[i-1][j], dp[i][j-1])$ から遷移\n",
    "\n"
   ]
  },
  {
   "cell_type": "code",
   "execution_count": 1,
   "id": "44d389c5-2299-47d2-8437-8ba074b378c5",
   "metadata": {},
   "outputs": [],
   "source": [
    "def LCS(S, T):\n",
    "    L1 = len(S)\n",
    "    L2 = len(T)\n",
    "    dp = [[0]*(L2+1) for _ in range(L1+1)]\n",
    "    \n",
    "    for i in range(1, L1+1):\n",
    "        for j in range(1, L2+1):\n",
    "            r = max(dp[i-1][j], dp[i][j-1])\n",
    "            if S[i-1] == T[j-1]:\n",
    "                r = max(r, dp[i-1][j-1]+1)\n",
    "            dp[i][j] = r\n",
    "            \n",
    "    # dp[L1][L2] が長さの解\n",
    "    \n",
    "    # 復元処理\n",
    "    res = []\n",
    "    i = L1; j = L2\n",
    "    while i > 0 and j > 0:\n",
    "        if dp[i][j] == dp[i-1][j-1]+1:\n",
    "            res.append(S[i-1])\n",
    "            i -= 1\n",
    "            j -= 1\n",
    "        elif dp[i][j] == dp[i-1][j]:\n",
    "            i -= 1\n",
    "        elif dp[i][j] == dp[i][j-1]:\n",
    "            j -= 1\n",
    "\n",
    "    # res[::-1] が復元文字列のリスト\n",
    "\n",
    "    # 最長共通部分列を返す\n",
    "    return \"\".join(res[::-1])"
   ]
  },
  {
   "cell_type": "markdown",
   "id": "ddcff06c-6711-44c1-8454-c3fba5db4214",
   "metadata": {
    "tags": []
   },
   "source": [
    "## [使用例 1](https://atcoder.jp/contests/tessoku-book/tasks/tessoku_book_t)"
   ]
  },
  {
   "cell_type": "markdown",
   "id": "f18ece8e-b742-4bbf-b52e-2da5856a0e9b",
   "metadata": {},
   "source": [
    "文字列 $S$ と $T$ の共通部分列（$S$ の部分列かつ $T$ の部分列）のうち、最長のものは何文字かを出力する。"
   ]
  },
  {
   "cell_type": "code",
   "execution_count": 2,
   "id": "56c0771e-738f-467d-a039-15ed5ce84aa9",
   "metadata": {},
   "outputs": [
    {
     "data": {
      "text/plain": [
       "3"
      ]
     },
     "execution_count": 2,
     "metadata": {},
     "output_type": "execute_result"
    }
   ],
   "source": [
    "def LCS(S, T):\n",
    "    L1 = len(S)\n",
    "    L2 = len(T)\n",
    "    dp = [[0]*(L2+1) for _ in range(L1+1)]\n",
    "    \n",
    "    for i in range(1, L1+1):\n",
    "        for j in range(1, L2+1):\n",
    "            r = max(dp[i-1][j], dp[i][j-1])\n",
    "            if S[i-1] == T[j-1]:\n",
    "                r = max(r, dp[i-1][j-1]+1)\n",
    "            dp[i][j] = r\n",
    "            \n",
    "    return dp[L1][L2]\n",
    "\n",
    "S = \"tokyo\"\n",
    "T = \"kyoto\"\n",
    "LCS(S, T)"
   ]
  },
  {
   "cell_type": "code",
   "execution_count": null,
   "id": "045d8430-fd89-4819-a47e-bb3972e9cdea",
   "metadata": {},
   "outputs": [],
   "source": []
  }
 ],
 "metadata": {
  "kernelspec": {
   "display_name": "Python 3 (ipykernel)",
   "language": "python",
   "name": "python3"
  },
  "language_info": {
   "codemirror_mode": {
    "name": "ipython",
    "version": 3
   },
   "file_extension": ".py",
   "mimetype": "text/x-python",
   "name": "python",
   "nbconvert_exporter": "python",
   "pygments_lexer": "ipython3",
   "version": "3.9.12"
  }
 },
 "nbformat": 4,
 "nbformat_minor": 5
}
