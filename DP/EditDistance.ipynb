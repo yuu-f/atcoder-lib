{
 "cells": [
  {
   "cell_type": "markdown",
   "id": "1b16c49b-2629-454d-8939-13ec58107028",
   "metadata": {
    "tags": []
   },
   "source": [
    "# 編集距離(Edit Distance, Levenshtein distance)"
   ]
  },
  {
   "cell_type": "markdown",
   "id": "c98e8416-f616-4df8-b0d4-e3eef59fe209",
   "metadata": {},
   "source": [
    "ある文字列 $S$ に対して「1文字の追加・削除・置換」を何回繰り返せば他の文字列 $T$ になるか。"
   ]
  },
  {
   "cell_type": "markdown",
   "id": "26b087d6-7244-4fe1-b72a-7e97ff70b983",
   "metadata": {
    "jp-MarkdownHeadingCollapsed": true,
    "tags": []
   },
   "source": [
    "## 計算量\n",
    "$O(NM)$"
   ]
  },
  {
   "cell_type": "markdown",
   "id": "7aafeec5-a821-4f42-9ef8-0d2c18e0363e",
   "metadata": {
    "tags": []
   },
   "source": [
    "## 実装\n",
    "- 1文字の追加：$dp[i-1][j] + 1$\n",
    "- 1文字の削除：$dp[i][j-1] + 1$\n",
    "- 1文字の置換：$dp[i-1][j-1] + cost$ $(cost=0 \\ if \\ s1[i-1]=s2[j-1] \\ else \\ 1)$"
   ]
  },
  {
   "cell_type": "code",
   "execution_count": 1,
   "id": "44d389c5-2299-47d2-8437-8ba074b378c5",
   "metadata": {},
   "outputs": [],
   "source": [
    "def EditDistance(S, T):\n",
    "    L1 = len(S)\n",
    "    L2 = len(T)\n",
    "    dp = [[0]*(L2+1) for _ in range(L1+1)]\n",
    "    \n",
    "    # dp の初期化、空文字列の場合は自明\n",
    "    for i in range(1, L1+1):\n",
    "        dp[i][0] = i\n",
    "    for j in range(1, L2+1):\n",
    "        dp[0][j] = j\n",
    "        \n",
    "    for i in range(1, L1+1):\n",
    "        for j in range(1, L2+1):\n",
    "            if S[i-1] == T[j-1]:\n",
    "                cost = 0\n",
    "            else:\n",
    "                cost = 1\n",
    "            dp[i][j]=min(dp[i-1][j]+1,  # insert\n",
    "                         dp[i][j-1]+1,  # delete\n",
    "                         dp[i-1][j-1]+cost) # replace\n",
    "    \n",
    "    return dp[L1][L2]"
   ]
  },
  {
   "cell_type": "markdown",
   "id": "ddcff06c-6711-44c1-8454-c3fba5db4214",
   "metadata": {
    "tags": []
   },
   "source": [
    "## [使用例 1](https://atcoder.jp/contests/tessoku-book/tasks/tessoku_book_cs)"
   ]
  },
  {
   "cell_type": "markdown",
   "id": "f18ece8e-b742-4bbf-b52e-2da5856a0e9b",
   "metadata": {},
   "source": [
    "文字列 $S$ に対して以下の 3 種類の操作を行う場合、最小何回の操作で文字列 $S$ を $T$ に一致させることができるか。\n",
    "- 操作1：$S$ 中の文字を 1 つ選び、削除する。\n",
    "- 操作2：$S$ 中の文字を 1 つ選び、別の文字に変更する。\n",
    "- 操作3：$S$ 中の適当な位置に、文字を 1 つ挿入する。"
   ]
  },
  {
   "cell_type": "code",
   "execution_count": 2,
   "id": "56c0771e-738f-467d-a039-15ed5ce84aa9",
   "metadata": {},
   "outputs": [
    {
     "data": {
      "text/plain": [
       "10"
      ]
     },
     "execution_count": 2,
     "metadata": {},
     "output_type": "execute_result"
    }
   ],
   "source": [
    "S = \"competitive\"\n",
    "T = \"programming\"\n",
    "EditDistance(S,T)"
   ]
  },
  {
   "cell_type": "code",
   "execution_count": null,
   "id": "b94dd3c6-9eef-4ab1-8021-dfa9f521f9ef",
   "metadata": {},
   "outputs": [],
   "source": []
  }
 ],
 "metadata": {
  "kernelspec": {
   "display_name": "Python 3 (ipykernel)",
   "language": "python",
   "name": "python3"
  },
  "language_info": {
   "codemirror_mode": {
    "name": "ipython",
    "version": 3
   },
   "file_extension": ".py",
   "mimetype": "text/x-python",
   "name": "python",
   "nbconvert_exporter": "python",
   "pygments_lexer": "ipython3",
   "version": "3.9.12"
  }
 },
 "nbformat": 4,
 "nbformat_minor": 5
}
