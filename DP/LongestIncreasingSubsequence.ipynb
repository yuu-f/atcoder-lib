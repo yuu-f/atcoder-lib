{
 "cells": [
  {
   "cell_type": "markdown",
   "id": "c98e8416-f616-4df8-b0d4-e3eef59fe209",
   "metadata": {},
   "source": [
    "# 最長増加部分列(Longest Increasing Subsequence, LIS)"
   ]
  },
  {
   "cell_type": "markdown",
   "id": "1167e69d-5724-429c-9928-32c23f2f1140",
   "metadata": {},
   "source": [
    "数列の部分列のうち、すべての i < j で a[i] < a[j] となっている部分列を増加部分列という。そのうち最長のものを最長増加部分列という。"
   ]
  },
  {
   "cell_type": "markdown",
   "id": "26b087d6-7244-4fe1-b72a-7e97ff70b983",
   "metadata": {
    "jp-MarkdownHeadingCollapsed": true,
    "tags": []
   },
   "source": [
    "## 計算量\n",
    "O(NlogN)"
   ]
  },
  {
   "cell_type": "markdown",
   "id": "7aafeec5-a821-4f42-9ef8-0d2c18e0363e",
   "metadata": {
    "tags": []
   },
   "source": [
    "## 実装\n",
    "- L[x]: 長さ x の増加部分列の中で、右端となる要素の最小値\n",
    "- dp[i]: L[pos] < A[i] を満たす pos の最大値を二分探索、dp[i]=pos+1"
   ]
  },
  {
   "cell_type": "code",
   "execution_count": 1,
   "id": "44d389c5-2299-47d2-8437-8ba074b378c5",
   "metadata": {},
   "outputs": [],
   "source": [
    "import bisect\n",
    "def LIS(N: int, A: list):\n",
    "    INF = 10**15\n",
    "    dp = [0]*(N+1)\n",
    "    dp[0] = -1\n",
    "    # L[x]: 長さ x の増加部分列の中で、右端となる要素の最小値\n",
    "    L = [INF]*(N+1)\n",
    "    L[0] = -1\n",
    "    for i in range(1,N+1):\n",
    "        # L[pos] < A[i] を満たす pos の最大値を二分探索\n",
    "        idx = bisect.bisect_left(L, A[i-1])\n",
    "        L[idx] = A[i-1]\n",
    "        dp[i] = idx\n",
    "    \n",
    "    # max(dp) が最長増加部分列の長さ\n",
    "    \n",
    "    # 復元処理\n",
    "    cnt = max(dp)\n",
    "    path = []\n",
    "    for i in range(N,0,-1):\n",
    "        if cnt == dp[i]:\n",
    "            path.append(A[i-1])\n",
    "            cnt -= 1\n",
    "    \n",
    "    # 最長増加部分列を返す\n",
    "    return path[::-1]"
   ]
  },
  {
   "cell_type": "markdown",
   "id": "ddcff06c-6711-44c1-8454-c3fba5db4214",
   "metadata": {
    "tags": []
   },
   "source": [
    "## [使用例 1](https://atcoder.jp/contests/tessoku-book/tasks/tessoku_book_x)"
   ]
  },
  {
   "cell_type": "markdown",
   "id": "f18ece8e-b742-4bbf-b52e-2da5856a0e9b",
   "metadata": {},
   "source": [
    "配列 A の最長増加部分列の長さを求める。"
   ]
  },
  {
   "cell_type": "code",
   "execution_count": 2,
   "id": "56c0771e-738f-467d-a039-15ed5ce84aa9",
   "metadata": {},
   "outputs": [],
   "source": [
    "import bisect\n",
    "def LIS(N: int, A: list):\n",
    "    INF = 10**15\n",
    "    dp = [0]*(N+1)\n",
    "    dp[0] = -1\n",
    "    # L[x]: 長さ x の増加部分列の中で、右端となる要素の最小値\n",
    "    L = [INF]*(N+1)\n",
    "    L[0] = -1\n",
    "    for i in range(1,N+1):\n",
    "        # L[pos] < A[i] を満たす pos の最大値を二分探索\n",
    "        idx = bisect.bisect_left(L, A[i-1])\n",
    "        L[idx] = A[i-1]\n",
    "        dp[i] = idx\n",
    "        \n",
    "    # max(dp) が最長増加部分列の長さ\n",
    "    return max(dp)"
   ]
  },
  {
   "cell_type": "code",
   "execution_count": 3,
   "id": "bab0f251-17e0-4377-817f-122d7b05f6a0",
   "metadata": {},
   "outputs": [
    {
     "data": {
      "text/plain": [
       "4"
      ]
     },
     "execution_count": 3,
     "metadata": {},
     "output_type": "execute_result"
    }
   ],
   "source": [
    "N=6\n",
    "A=[2,3,1,6,4,5]\n",
    "LIS(N,A)"
   ]
  },
  {
   "cell_type": "code",
   "execution_count": 4,
   "id": "8970ace0-7a43-4c37-8cee-0fc6e6a01557",
   "metadata": {},
   "outputs": [
    {
     "data": {
      "text/plain": [
       "1"
      ]
     },
     "execution_count": 4,
     "metadata": {},
     "output_type": "execute_result"
    }
   ],
   "source": [
    "N=10\n",
    "A=[1,1,1,1,1,1,1,1,1,1]\n",
    "LIS(N,A)"
   ]
  },
  {
   "cell_type": "code",
   "execution_count": null,
   "id": "3a5b08cd-9f7e-4eea-a5b0-c14cbf9ebe85",
   "metadata": {},
   "outputs": [],
   "source": []
  }
 ],
 "metadata": {
  "kernelspec": {
   "display_name": "Python 3 (ipykernel)",
   "language": "python",
   "name": "python3"
  },
  "language_info": {
   "codemirror_mode": {
    "name": "ipython",
    "version": 3
   },
   "file_extension": ".py",
   "mimetype": "text/x-python",
   "name": "python",
   "nbconvert_exporter": "python",
   "pygments_lexer": "ipython3",
   "version": "3.9.12"
  }
 },
 "nbformat": 4,
 "nbformat_minor": 5
}
