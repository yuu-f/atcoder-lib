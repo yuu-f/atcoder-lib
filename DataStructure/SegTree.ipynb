{
 "cells": [
  {
   "cell_type": "markdown",
   "id": "1b16c49b-2629-454d-8939-13ec58107028",
   "metadata": {
    "tags": []
   },
   "source": [
    "# Segment Tree"
   ]
  },
  {
   "cell_type": "markdown",
   "id": "252f34a5-7208-4592-bc01-ba5c1c565e01",
   "metadata": {},
   "source": [
    "区間最小値 / 最大値などの区間に対するクエリに答えられる。<br>\n",
    "区間内の値を効率的に更新できる。<br>\n",
    "> https://ikatakos.com/pot/programming_algorithm/data_structure/segment_tree"
   ]
  },
  {
   "cell_type": "markdown",
   "id": "af0ea3e7-77d7-47c5-92c4-c624457aaf24",
   "metadata": {},
   "source": [
    "## 計算量\n",
    "- 前計算: $O(logN)$\n",
    "- クエリ処理: $O(logN)$"
   ]
  },
  {
   "cell_type": "markdown",
   "id": "7aafeec5-a821-4f42-9ef8-0d2c18e0363e",
   "metadata": {
    "tags": []
   },
   "source": [
    "## 実装"
   ]
  },
  {
   "cell_type": "code",
   "execution_count": 1,
   "id": "1b0a57fa-5e93-40c1-8cce-0457fc388322",
   "metadata": {},
   "outputs": [],
   "source": [
    "# セグメント木で管理する関数\n",
    "# モノイドある必要がある\n",
    "def segfunc(x, y):\n",
    "    return x+y\n",
    "\n",
    "class SegTree:\n",
    "    # N: 要素数, INF: 初期値\n",
    "    def __init__(self, segfunc, N: int, INF: int):\n",
    "        # セグメント木の要素数\n",
    "        n0 = 1 << ((N-1).bit_length())\n",
    "        self.offset = n0\n",
    "        self.data = [INF] * (n0 << 1)\n",
    "        \n",
    "        self.segfunc = segfunc\n",
    "        self.INF = INF\n",
    "    \n",
    "    # インデックス pos の値を x に更新\n",
    "    # pos: 0-indexed\n",
    "    # x: 更新する値\n",
    "    def update(self, pos, x):\n",
    "        # 実際のデータは最下段のインデックス [n0,2*n0) に入る\n",
    "        # pos に対応するセグメント木の要素のインデックスは pos + self.offset\n",
    "        pos += self.offset\n",
    "        # 更新処理\n",
    "        self.data[pos] = x\n",
    "        # 親を更新していく\n",
    "        while pos > 1:\n",
    "            # 左シフトして親のインデックスを求める\n",
    "            pos >>= 1\n",
    "            # pos の子に対して segfunc を適用\n",
    "            self.data[pos] = self.segfunc(self.data[pos<<1], self.data[pos<<1 | 1])\n",
    "    \n",
    "    # 区間 [l,r) に segfunc を適用する処理\n",
    "    # l, r: 0-indexed\n",
    "    def query(self, l, r):\n",
    "        result = self.INF\n",
    "        # 最下段の要素のインデックス\n",
    "        l = l + self.offset\n",
    "        r = r + self.offset\n",
    "        # 最下段の左と右の外側から、親を辿って範囲を狭めながら segfunc を適用していく\n",
    "        while l < r:\n",
    "            if l & 1:\n",
    "                # 左端のブロックを調べる\n",
    "                result = self.segfunc(result, self.data[l])\n",
    "                # 右のブロックへ\n",
    "                l += 1\n",
    "            if r & 1:\n",
    "                # 左のブロックを調べる\n",
    "                result = self.segfunc(result, self.data[r-1])\n",
    "            # 親ブロックへ移動\n",
    "            l >>= 1\n",
    "            r >>= 1\n",
    "        \n",
    "        return result"
   ]
  },
  {
   "cell_type": "markdown",
   "id": "48a2f0da-9358-4ae7-b1c5-1208fd28f120",
   "metadata": {
    "tags": []
   },
   "source": [
    "## [使用例 1](https://atcoder.jp/contests/tessoku-book/tasks/tessoku_book_bf)\n",
    "長さ $N$ のある区間内の値を更新する or 最大値を答えるクエリに $Q$ 回答える。$O(NQ)$ だと TLE する。"
   ]
  },
  {
   "cell_type": "code",
   "execution_count": 2,
   "id": "7cb6d777-be0b-4805-954f-e63f3c49f667",
   "metadata": {},
   "outputs": [
    {
     "name": "stdout",
     "output_type": "stream",
     "text": [
      "0\n",
      "13\n"
     ]
    }
   ],
   "source": [
    "def segfunc(x, y):\n",
    "    return max(x,y)\n",
    "\n",
    "N,Q=8,4\n",
    "Queries=[[1, 3, 16], [2, 4, 7], [1, 5, 13], [2, 4, 7]]\n",
    "sg = SegTree(segfunc, N, 0)\n",
    "\n",
    "for q,a,b in Queries:\n",
    "    a-=1\n",
    "    if q==1:\n",
    "        sg.update(a,b)\n",
    "    else:\n",
    "        b-=1\n",
    "        res=sg.query(a,b)\n",
    "        print(res)"
   ]
  },
  {
   "cell_type": "code",
   "execution_count": null,
   "id": "b64e2d22-71a3-4489-bc3e-620d938c0374",
   "metadata": {},
   "outputs": [],
   "source": []
  }
 ],
 "metadata": {
  "kernelspec": {
   "display_name": "Python 3 (ipykernel)",
   "language": "python",
   "name": "python3"
  },
  "language_info": {
   "codemirror_mode": {
    "name": "ipython",
    "version": 3
   },
   "file_extension": ".py",
   "mimetype": "text/x-python",
   "name": "python",
   "nbconvert_exporter": "python",
   "pygments_lexer": "ipython3",
   "version": "3.9.12"
  }
 },
 "nbformat": 4,
 "nbformat_minor": 5
}
