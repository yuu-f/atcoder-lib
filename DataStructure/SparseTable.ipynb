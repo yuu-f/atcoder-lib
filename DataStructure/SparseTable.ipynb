{
 "cells": [
  {
   "cell_type": "markdown",
   "id": "1b16c49b-2629-454d-8939-13ec58107028",
   "metadata": {
    "tags": []
   },
   "source": [
    "# Sparse Table"
   ]
  },
  {
   "cell_type": "markdown",
   "id": "252f34a5-7208-4592-bc01-ba5c1c565e01",
   "metadata": {},
   "source": [
    "静的データに対して、区間最小値 / 最大値などの区間に対するクエリに答えられる。<br>\n",
    "> https://tookunn.hatenablog.com/entry/2016/07/13/211148\n",
    "> https://ikatakos.com/pot/programming_algorithm/data_structure/sparse_table"
   ]
  },
  {
   "cell_type": "markdown",
   "id": "af0ea3e7-77d7-47c5-92c4-c624457aaf24",
   "metadata": {},
   "source": [
    "## 計算量\n",
    "- 前計算: $O(NlogN)$\n",
    "- クエリ処理: $O(1)$"
   ]
  },
  {
   "cell_type": "markdown",
   "id": "7aafeec5-a821-4f42-9ef8-0d2c18e0363e",
   "metadata": {
    "tags": []
   },
   "source": [
    "## 実装\n",
    "- 数列 $A = {A[0],A[1],A[2],...,A[N-1]}$ の区間最小値を求める\n",
    "- $table[i][k]$: 左端が $A[i]$ で、長さが $2^k$ $(k=0,1,...,log(N))$ である区間の最小値を持つインデックスを保持するテーブルを前計算\n",
    "- $query(l,r) = A[l:r]$ の最小値のインデックスとする\n",
    "- $A[l:r+2^k-1], A[r−2^k+1:r]$の2つの区間の最小値のインデックスを求める。"
   ]
  },
  {
   "cell_type": "code",
   "execution_count": 1,
   "id": "1b0a57fa-5e93-40c1-8cce-0457fc388322",
   "metadata": {},
   "outputs": [],
   "source": [
    "class SparseTable:\n",
    "    def __init__(self, A):\n",
    "        self.A = A\n",
    "        N = len(A)\n",
    "        # インデックス k として必要な最大値\n",
    "        # 例: N = 8 の場合、2^2 まで計算できればよい\n",
    "        max_k = (N-1).bit_length() - 1\n",
    "        \n",
    "        # DP: i=0,1,2,...,N-1 に対して、𝑘=0,1,...,max_k の値を順番に評価していく\n",
    "        INF = 10**10\n",
    "        # 𝑡𝑎𝑏𝑙𝑒[𝑖][𝑘] を初期化\n",
    "        table = [[INF]*(max_k+1) for _ in range(N)]\n",
    "        # table[i][k=0] = i で自明\n",
    "        for i in range(N):\n",
    "            table[i][0]=i\n",
    "        \n",
    "        # table[i][k]を求める際、table[i][k−1] の計算結果を利用する\n",
    "        # さらに、table[i][k]を求める際、table[i+2^(k-1)][k−1] の計算結果を利用する \n",
    "        for k in range(1, max_k + 1):\n",
    "            for i in range(N):\n",
    "                if i + (1 << k) > N:\n",
    "                    break\n",
    "                # print(k,i,i+(1<<(k-1)))\n",
    "                # k-1 で求めた結果を利用\n",
    "                first = table[i][k-1]\n",
    "                second = table[i+(1<<(k-1))][k-1]\n",
    "\n",
    "                # table[i][k] の値を区間内の最小値を持つインデックスとする\n",
    "                if A[first] <= A[second]:\n",
    "                    table[i][k] = first\n",
    "                else:\n",
    "                    table[i][k] = second\n",
    "\n",
    "        self.table = table\n",
    "\n",
    "    # 区間[l,r] (0 <= l < r <= N-1) の最小値を持つインデックスを返す\n",
    "    def query(self, l, r):\n",
    "        # 同値の場合\n",
    "        if l==r:\n",
    "            return l\n",
    "        # l > r の場合入れ替え\n",
    "        if l > r:\n",
    "            l, r = r, l\n",
    "        # 区間の長さ\n",
    "        d = r - l + 1\n",
    "        k = (d-1).bit_length() - 1\n",
    "        \n",
    "        # A[l:r+2^k-1], A[r−2^k+1:r] の2つの区間の最小値を持つインデックスを返す\n",
    "        min_idx_l = self.table[l][k]\n",
    "        min_idx_r = self.table[r-(1<<k)+1][k]\n",
    "        if self.A[min_idx_l] < self.A[min_idx_r]:\n",
    "            return min_idx_l\n",
    "        else:\n",
    "            return min_idx_r"
   ]
  },
  {
   "cell_type": "markdown",
   "id": "48a2f0da-9358-4ae7-b1c5-1208fd28f120",
   "metadata": {
    "tags": []
   },
   "source": [
    "## [使用例 1](https://atcoder.jp/contests/ukuku09/tasks/ukuku09_d)\n",
    "長さ N の文字列 S について、S[l,r] の最長回文の長さをQ回答える。"
   ]
  },
  {
   "cell_type": "code",
   "execution_count": 2,
   "id": "7cb6d777-be0b-4805-954f-e63f3c49f667",
   "metadata": {},
   "outputs": [],
   "source": [
    "# 回文判定用\n",
    "def Manacher(S: str):\n",
    "    # ダミー文字を挿入\n",
    "    dummy = \"0\"\n",
    "    C = []\n",
    "    for a in S:\n",
    "        C.append(0)\n",
    "        C.append(a)   \n",
    "    C.append(0)\n",
    "\n",
    "    L = len(C)\n",
    "    R = [0] * L\n",
    "    \n",
    "    # 探索位置\n",
    "    i = 0\n",
    "    # 半径\n",
    "    j = 0\n",
    "    while i < L:\n",
    "        # すでに回文であることがわかっている部分を飛ばす\n",
    "        # 回文を探索\n",
    "        while j <= i < L-j and C[i-j] == C[i+j]:\n",
    "            j += 1\n",
    "        R[i] = j\n",
    "        k = 1\n",
    "        # 対称性から、求めた回文半径の範囲内に存在する回文の答えを埋める\n",
    "        while k <= i < L-k and k + R[i-k] < j:\n",
    "            R[i+k] = R[i-k]\n",
    "            k += 1\n",
    "        # 探索開始位置をスライドする\n",
    "        i += k\n",
    "        # 開始位置を i にスライドした場合に、\n",
    "        # すでにわかっている回文半径\n",
    "        j -= k\n",
    "    \n",
    "    R = list(map(lambda x: x-1, R))\n",
    "    # i=0,1,2,...,|S|-1\n",
    "    # R[2*i+1] = L: S[i]  を中心とする奇数長の最大回文 \n",
    "    # R[2*i] = L: S[i:i+2]を中心とする偶数長の最大回文\n",
    "    # ダミー文字を挟むが、各 R[i] は実際の回文の文字列長と一致する\n",
    "    return R"
   ]
  },
  {
   "cell_type": "code",
   "execution_count": 3,
   "id": "4dc2572a-f52c-4640-b1d8-e713c7d323f4",
   "metadata": {},
   "outputs": [],
   "source": [
    "# 回答\n",
    "S='acbcaaaddda'\n",
    "Queries=[[5, 9], [9, 11], [7, 10], [6, 6], [8, 11]]\n",
    "\n",
    "R=Manacher(S)\n",
    "\n",
    "def solve():\n",
    "    # 奇数長のみ、SparseTable を利用するため -1 を掛ける\n",
    "    R_odd = [-1*R[2*i+1] for i in range(len(S))]\n",
    "    st = SparseTable(R_odd)\n",
    "        \n",
    "    for l,r in Queries:\n",
    "        l-=1\n",
    "        r-=1\n",
    "        if r-l < 2:\n",
    "            print(1)\n",
    "            continue\n",
    "        # 答えとなる回文長を初期化\n",
    "        ok = 1\n",
    "        # 答えとして存在し得る最大回文長\n",
    "        ng = 2*((r-l)//2)+1\n",
    "        # print(r-l+1,(ok,ng))\n",
    "        # 回文長 k を [ok:ng] 間で変化させ、答えで二分探索\n",
    "        while ok < ng:\n",
    "            # 長さ k の回文を作れるか\n",
    "            k = (ok+ng)//2\n",
    "            k = 2*(k//2)-1\n",
    "            # 二分探索の左端\n",
    "            # a = l+k-1\n",
    "            a = l + k//2\n",
    "            # 二分探索の右端\n",
    "            # b = r-k+1\n",
    "            b = r - k//2\n",
    "            # 範囲内の最大回文長を取得\n",
    "            _max = -1*R_odd[st.query(a,b)]\n",
    "            # print((_max,k),(a,b))\n",
    "            if _max > k:\n",
    "                ok = k + 2\n",
    "            if _max < k:\n",
    "                ng = k\n",
    "            if _max == k:\n",
    "                ok = k\n",
    "                break\n",
    "            # print((ok,ng))\n",
    "        \n",
    "        # 最後に ok = k + 2 して抜けた時に範囲外になっていないか確かめる\n",
    "        a = l + ok//2\n",
    "        b = r - ok//2\n",
    "        _max = -1*R_odd[st.query(a,b)]\n",
    "        if _max>=ok:\n",
    "            print(ok)\n",
    "        else:\n",
    "            print(ok-2)"
   ]
  },
  {
   "cell_type": "code",
   "execution_count": 4,
   "id": "85a2c260-a9d5-44c7-9c12-8001a93aa5c7",
   "metadata": {},
   "outputs": [
    {
     "name": "stdout",
     "output_type": "stream",
     "text": [
      "3\n",
      "1\n",
      "3\n",
      "1\n",
      "3\n"
     ]
    }
   ],
   "source": [
    "solve()"
   ]
  },
  {
   "cell_type": "code",
   "execution_count": null,
   "id": "b64e2d22-71a3-4489-bc3e-620d938c0374",
   "metadata": {},
   "outputs": [],
   "source": []
  }
 ],
 "metadata": {
  "kernelspec": {
   "display_name": "Python 3 (ipykernel)",
   "language": "python",
   "name": "python3"
  },
  "language_info": {
   "codemirror_mode": {
    "name": "ipython",
    "version": 3
   },
   "file_extension": ".py",
   "mimetype": "text/x-python",
   "name": "python",
   "nbconvert_exporter": "python",
   "pygments_lexer": "ipython3",
   "version": "3.9.12"
  }
 },
 "nbformat": 4,
 "nbformat_minor": 5
}
