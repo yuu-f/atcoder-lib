{
 "cells": [
  {
   "cell_type": "markdown",
   "id": "1b16c49b-2629-454d-8939-13ec58107028",
   "metadata": {
    "tags": []
   },
   "source": [
    "# 深さ優先探索(Depth First Search, DFS)"
   ]
  },
  {
   "cell_type": "markdown",
   "id": "c98e8416-f616-4df8-b0d4-e3eef59fe209",
   "metadata": {},
   "source": [
    "グラフを探索できる。\n",
    ">https://manabitimes.jp/math/1247<br>\n",
    ">とにかく行けるとこまで行ってそれ以上進めなくなったら一歩戻ってまた探索するという方法"
   ]
  },
  {
   "cell_type": "markdown",
   "id": "26b087d6-7244-4fe1-b72a-7e97ff70b983",
   "metadata": {},
   "source": [
    "## 計算量\n",
    "O(|V|+|E|)"
   ]
  },
  {
   "cell_type": "markdown",
   "id": "7aafeec5-a821-4f42-9ef8-0d2c18e0363e",
   "metadata": {
    "tags": []
   },
   "source": [
    "## 実装（再帰関数）"
   ]
  },
  {
   "cell_type": "code",
   "execution_count": 1,
   "id": "44d389c5-2299-47d2-8437-8ba074b378c5",
   "metadata": {},
   "outputs": [],
   "source": [
    "import sys\n",
    "# 再帰呼び出しの深さの上限を 1<<20 に設定\n",
    "sys.setrecursionlimit(1<<20)\n",
    "\n",
    "# N: 頂点数, G: 隣接リスト, s: スタート地点\n",
    "def dfs_rec(N: int, G: list, s: int):\n",
    "    # visited: 探索済みフラグ\n",
    "    visited=[False]*(N+1)\n",
    "    # pos: 現在地点\n",
    "    def dfs(pos):\n",
    "        visited[pos]=True\n",
    "        # nex: 隣接頂点\n",
    "        for nex in G[pos]:\n",
    "            # 未探索ならさらに探索\n",
    "            if not visited[nex]:\n",
    "                dfs(nex)\n",
    "        return\n",
    "    dfs(s)"
   ]
  },
  {
   "cell_type": "markdown",
   "id": "ddcff06c-6711-44c1-8454-c3fba5db4214",
   "metadata": {
    "tags": []
   },
   "source": [
    "## [使用例 1](https://atcoder.jp/contests/tessoku-book/tasks/math_and_algorithm_am)"
   ]
  },
  {
   "cell_type": "markdown",
   "id": "f18ece8e-b742-4bbf-b52e-2da5856a0e9b",
   "metadata": {},
   "source": [
    "頂点数 N、辺数 M のグラフについて、連結グラフかどうかを判定する。"
   ]
  },
  {
   "cell_type": "code",
   "execution_count": 2,
   "id": "18877635-3b15-4ae1-8f66-2861fd0adcff",
   "metadata": {},
   "outputs": [],
   "source": [
    "import sys\n",
    "sys.setrecursionlimit(1<<20)\n",
    "\n",
    "def dfs_rec(N, G, s): \n",
    "    visited=[False]*(N+1)\n",
    "    def dfs(pos):\n",
    "        visited[pos]=True\n",
    "        for nex in G[pos]:\n",
    "            if not visited[nex]:\n",
    "                dfs(nex)\n",
    "        return\n",
    "    dfs(s)\n",
    "    return visited\n",
    "\n",
    "def setG(N,E):\n",
    "    G=[list() for _ in range(N+1)]\n",
    "    for a,b in E:\n",
    "        G[a].append(b)\n",
    "        G[b].append(a)\n",
    "    return G"
   ]
  },
  {
   "cell_type": "code",
   "execution_count": 3,
   "id": "56c0771e-738f-467d-a039-15ed5ce84aa9",
   "metadata": {},
   "outputs": [
    {
     "data": {
      "text/plain": [
       "[True, True, True]"
      ]
     },
     "execution_count": 3,
     "metadata": {},
     "output_type": "execute_result"
    }
   ],
   "source": [
    "N=3\n",
    "M=2\n",
    "E=[[1,3],[2,3]] # 辺リスト\n",
    "G=setG(N,E) # 隣接リスト\n",
    "\n",
    "# 探索済みフラグが全て True のため連結グラフ\n",
    "dfs_rec(N, G, 1)[1:]"
   ]
  },
  {
   "cell_type": "code",
   "execution_count": 4,
   "id": "9daede5b-10b3-488e-b66f-21bad0d46d1d",
   "metadata": {},
   "outputs": [
    {
     "data": {
      "text/plain": [
       "[True, True, True, True, False, False]"
      ]
     },
     "execution_count": 4,
     "metadata": {},
     "output_type": "execute_result"
    }
   ],
   "source": [
    "N=6\n",
    "M=6\n",
    "E=[[1,4],[2,3],[3,4],[5,6],[1,2],[2,4]]\n",
    "G=setG(N,E)\n",
    "    \n",
    "# 探索済みフラグに False が一つでもあれば連結ではない\n",
    "dfs_rec(N, G, 1)[1:]"
   ]
  },
  {
   "cell_type": "markdown",
   "id": "04024365-057b-4228-93de-a443179cf9f8",
   "metadata": {},
   "source": [
    "## [使用例 2](https://atcoder.jp/contests/tessoku-book/tasks/tessoku_book_ei)"
   ]
  },
  {
   "cell_type": "markdown",
   "id": "d1da456b-dfc9-4018-9f2d-29a1d4caf382",
   "metadata": {},
   "source": [
    "頂点数 N、辺数 M の連結なグラフについて、頂点 1 から頂点 N までの単純パスを一つ出力する。"
   ]
  },
  {
   "cell_type": "code",
   "execution_count": 5,
   "id": "b2cb435e-6183-4b5c-99d1-9f51331cc7b9",
   "metadata": {},
   "outputs": [],
   "source": [
    "import sys\n",
    "sys.setrecursionlimit(1<<20)\n",
    "\n",
    "def dfs_rec(N, G, s):\n",
    "    visited=[False]*(N+1)\n",
    "    path=[]\n",
    "    def dfs(pos):\n",
    "        visited[pos]=True\n",
    "        path.append(pos)\n",
    "        if pos==N:\n",
    "            print(*path)\n",
    "            exit(0)\n",
    "        for nex in G[pos]:\n",
    "            if not visited[nex]:\n",
    "                dfs(nex)\n",
    "        path.pop()\n",
    "        return\n",
    "    dfs(s)\n",
    "    return\n",
    "\n",
    "def setG(N,E):\n",
    "    G=[list() for _ in range(N+1)]\n",
    "    for a,b in E:\n",
    "        G[a].append(b)\n",
    "        G[b].append(a)\n",
    "    return G"
   ]
  },
  {
   "cell_type": "code",
   "execution_count": 6,
   "id": "4122a4f0-8d92-4591-92b7-b3cc720908c4",
   "metadata": {},
   "outputs": [
    {
     "name": "stdout",
     "output_type": "stream",
     "text": [
      "1 2 3 5\n"
     ]
    }
   ],
   "source": [
    "N=5\n",
    "M=4\n",
    "E=[[1,2],[2,3],[3,4],[3,5]] # 辺リスト\n",
    "G=setG(N,E) # 隣接リスト\n",
    "\n",
    "dfs_rec(N, G, 1)"
   ]
  },
  {
   "cell_type": "code",
   "execution_count": null,
   "id": "27ba1306-3018-45bc-b9d7-ab18277c5836",
   "metadata": {},
   "outputs": [],
   "source": []
  },
  {
   "cell_type": "code",
   "execution_count": null,
   "id": "8874913d-0e58-4e89-a37e-7b37edb0ce22",
   "metadata": {},
   "outputs": [],
   "source": []
  }
 ],
 "metadata": {
  "kernelspec": {
   "display_name": "Python 3 (ipykernel)",
   "language": "python",
   "name": "python3"
  },
  "language_info": {
   "codemirror_mode": {
    "name": "ipython",
    "version": 3
   },
   "file_extension": ".py",
   "mimetype": "text/x-python",
   "name": "python",
   "nbconvert_exporter": "python",
   "pygments_lexer": "ipython3",
   "version": "3.9.12"
  }
 },
 "nbformat": 4,
 "nbformat_minor": 5
}
