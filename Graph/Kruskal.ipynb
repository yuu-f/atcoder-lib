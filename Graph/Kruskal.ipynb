{
 "cells": [
  {
   "cell_type": "markdown",
   "id": "1b16c49b-2629-454d-8939-13ec58107028",
   "metadata": {
    "tags": []
   },
   "source": [
    "# クラスカル法(Kruskal’s Algorithm)"
   ]
  },
  {
   "cell_type": "markdown",
   "id": "c98e8416-f616-4df8-b0d4-e3eef59fe209",
   "metadata": {},
   "source": [
    "連結グラフの最小全域木(Minimum Spanning Tree)におけるコストの総和を求められる。<br>\n",
    "コストが小さい辺から連結でない頂点同士を貪欲に繋いでいく。"
   ]
  },
  {
   "cell_type": "markdown",
   "id": "26b087d6-7244-4fe1-b72a-7e97ff70b983",
   "metadata": {},
   "source": [
    "## 計算量\n",
    "O(|E|log|V|)"
   ]
  },
  {
   "cell_type": "markdown",
   "id": "7aafeec5-a821-4f42-9ef8-0d2c18e0363e",
   "metadata": {
    "tags": []
   },
   "source": [
    "## 実装"
   ]
  },
  {
   "cell_type": "code",
   "execution_count": 1,
   "id": "44d389c5-2299-47d2-8437-8ba074b378c5",
   "metadata": {},
   "outputs": [],
   "source": [
    "class unionfind:\n",
    "    def __init__(self, N):\n",
    "        self.n = N\n",
    "        self.par = [-1]*(N+1) # 全ての頂点を根に初期化\n",
    "        self.size = [1]*(N+1) # 集合のサイズを初期化\n",
    "\n",
    "    # 頂点 x の根を返す関数\n",
    "    def root(self, x):\n",
    "        # 根に到達するまで親を探索\n",
    "        while self.par[x] != -1:\n",
    "            x = self.par[x]\n",
    "        return x\n",
    "\n",
    "    # 要素 u, v を統合する関数\n",
    "    def unite(self, u, v):\n",
    "        rootu = self.root(u)\n",
    "        rootv = self.root(v)\n",
    "        # u と v の根が異なる場合に結合\n",
    "        if rootu != rootv:\n",
    "            # 集合のサイズが大きい方を親として結合\n",
    "            if self.size[rootu] < self.size[rootv]:\n",
    "                self.par[rootu] = rootv\n",
    "                self.size[rootv] += self.size[rootu]\n",
    "            else:\n",
    "                self.par[rootv] = rootu\n",
    "                self.size[rootu] += self.size[rootv]\n",
    "    \n",
    "    #  要素 u と v が同一の集合（根）かどうかを返す関数\n",
    "    def issame(self, u, v) -> bool:\n",
    "        return self.root(u) == self.root(v)\n",
    "\n",
    "\n",
    "def kruskal(N: int, E: list) -> int: \n",
    "    uf = unionfind(N)\n",
    "    # E: 重み付き辺リスト, E[i]=[u,v,cost]\n",
    "    # コストの小さい辺順に並び替え\n",
    "    sortE = sorted(E, key = lambda x: x[2])\n",
    "    sum_cost=0\n",
    "    # コストの小さい辺を貪欲に選択し、頂点同士を連結させる\n",
    "    for u,v,cost in sortE:\n",
    "        # 辺を構成する2頂点が連結でない場合、連結させてコストを確定する\n",
    "        if uf.issame(u, v):\n",
    "            continue\n",
    "        uf.unite(u,v)\n",
    "        sum_cost += cost\n",
    "    return sum_cost"
   ]
  },
  {
   "cell_type": "markdown",
   "id": "ddcff06c-6711-44c1-8454-c3fba5db4214",
   "metadata": {
    "tags": []
   },
   "source": [
    "## [使用例 1](https://atcoder.jp/contests/tessoku-book/tasks/tessoku_book_bo)"
   ]
  },
  {
   "cell_type": "markdown",
   "id": "f18ece8e-b742-4bbf-b52e-2da5856a0e9b",
   "metadata": {},
   "source": [
    "頂点数 N、辺数 M の重み付きグラフに対して、最小全域木における辺の長さの総和を求める。"
   ]
  },
  {
   "cell_type": "code",
   "execution_count": 2,
   "id": "56c0771e-738f-467d-a039-15ed5ce84aa9",
   "metadata": {},
   "outputs": [
    {
     "data": {
      "text/plain": [
       "55"
      ]
     },
     "execution_count": 2,
     "metadata": {},
     "output_type": "execute_result"
    }
   ],
   "source": [
    "N,M = 7,9\n",
    "E = [[1, 2, 12],\n",
    "     [1, 3, 10],\n",
    "     [2, 6, 160],\n",
    "     [2, 7, 15],\n",
    "     [3, 4, 1],\n",
    "     [3, 5, 4],\n",
    "     [4, 5, 3],\n",
    "     [4, 6, 120],\n",
    "     [6, 7, 14]]\n",
    "\n",
    "kruskal(N, E)"
   ]
  },
  {
   "cell_type": "markdown",
   "id": "04024365-057b-4228-93de-a443179cf9f8",
   "metadata": {
    "tags": []
   },
   "source": [
    "## [使用例 2](https://atcoder.jp/contests/tessoku-book/tasks/tessoku_book_en)"
   ]
  },
  {
   "cell_type": "markdown",
   "id": "d1da456b-dfc9-4018-9f2d-29a1d4caf382",
   "metadata": {},
   "source": [
    "頂点数 N、辺数 M の重み付きグラフに対して、\"最大\"全域木における辺の長さの総和を求める。"
   ]
  },
  {
   "cell_type": "code",
   "execution_count": 3,
   "id": "b2cb435e-6183-4b5c-99d1-9f51331cc7b9",
   "metadata": {},
   "outputs": [],
   "source": [
    "def kruskal(N: int, E: list) -> int: \n",
    "    uf = unionfind(N)\n",
    "    # コストの\"大きい\"辺順に並び替え\n",
    "    sortE = sorted(E, reverse = True, key = lambda x: x[2])\n",
    "    sum_cost=0\n",
    "    # コストの\"大きい\"辺を貪欲に選択し、頂点同士を連結させる\n",
    "    for u,v,cost in sortE:\n",
    "        if uf.issame(u, v):\n",
    "            continue\n",
    "        uf.unite(u,v)\n",
    "        sum_cost += cost\n",
    "    return sum_cost"
   ]
  },
  {
   "cell_type": "code",
   "execution_count": 4,
   "id": "4122a4f0-8d92-4591-92b7-b3cc720908c4",
   "metadata": {},
   "outputs": [
    {
     "data": {
      "text/plain": [
       "321"
      ]
     },
     "execution_count": 4,
     "metadata": {},
     "output_type": "execute_result"
    }
   ],
   "source": [
    "N,M = 7,9\n",
    "E = [[1, 2, 12],\n",
    "     [1, 3, 10],\n",
    "     [2, 6, 160],\n",
    "     [2, 7, 15],\n",
    "     [3, 4, 1],\n",
    "     [3, 5, 4],\n",
    "     [4, 5, 3],\n",
    "     [4, 6, 120],\n",
    "     [6, 7, 14]]\n",
    "\n",
    "kruskal(N, E)"
   ]
  },
  {
   "cell_type": "code",
   "execution_count": null,
   "id": "9e6ac58f-2bab-49aa-93fc-27a0417ded5d",
   "metadata": {},
   "outputs": [],
   "source": []
  },
  {
   "cell_type": "code",
   "execution_count": null,
   "id": "045d8430-fd89-4819-a47e-bb3972e9cdea",
   "metadata": {},
   "outputs": [],
   "source": []
  }
 ],
 "metadata": {
  "kernelspec": {
   "display_name": "Python 3 (ipykernel)",
   "language": "python",
   "name": "python3"
  },
  "language_info": {
   "codemirror_mode": {
    "name": "ipython",
    "version": 3
   },
   "file_extension": ".py",
   "mimetype": "text/x-python",
   "name": "python",
   "nbconvert_exporter": "python",
   "pygments_lexer": "ipython3",
   "version": "3.9.12"
  }
 },
 "nbformat": 4,
 "nbformat_minor": 5
}
