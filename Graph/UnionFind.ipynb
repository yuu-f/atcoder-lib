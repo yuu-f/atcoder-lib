{
 "cells": [
  {
   "cell_type": "markdown",
   "id": "1b16c49b-2629-454d-8939-13ec58107028",
   "metadata": {
    "tags": []
   },
   "source": [
    "# Union-Find"
   ]
  },
  {
   "cell_type": "markdown",
   "id": "c98e8416-f616-4df8-b0d4-e3eef59fe209",
   "metadata": {},
   "source": [
    "素集合データ構造に対する操作ができる。<br>\n",
    "- Union: 2つの集合を1つに統合する。\n",
    "- Find: 特定の要素がどの集合に属しているかを求める。"
   ]
  },
  {
   "cell_type": "markdown",
   "id": "26b087d6-7244-4fe1-b72a-7e97ff70b983",
   "metadata": {},
   "source": [
    "## 計算量\n",
    "O(logN)"
   ]
  },
  {
   "cell_type": "markdown",
   "id": "7aafeec5-a821-4f42-9ef8-0d2c18e0363e",
   "metadata": {
    "tags": []
   },
   "source": [
    "## 実装"
   ]
  },
  {
   "cell_type": "code",
   "execution_count": 1,
   "id": "44d389c5-2299-47d2-8437-8ba074b378c5",
   "metadata": {},
   "outputs": [],
   "source": [
    "class unionfind:\n",
    "    def __init__(self, N):\n",
    "        self.n = N\n",
    "        self.par = [-1]*(N+1) # 全ての頂点を根に初期化\n",
    "        self.size = [1]*(N+1) # 集合のサイズを初期化\n",
    "\n",
    "    # 頂点 x の根を返す関数\n",
    "    def root(self, x):\n",
    "        # 根に到達するまで、親を探索\n",
    "        while self.par[x] != -1:\n",
    "            x = self.par[x]\n",
    "        return x\n",
    "\n",
    "    # 要素 u, v を統合する関数\n",
    "    def unite(self, u, v):\n",
    "        rootu = self.root(u)\n",
    "        rootv = self.root(v)\n",
    "        # u と v の根が異なる場合に結合\n",
    "        if rootu != rootv:\n",
    "            # 集合のサイズが大きい方を親として結合\n",
    "            if self.size[rootu] < self.size[rootv]:\n",
    "                self.par[rootu] = rootv\n",
    "                self.size[rootv] += self.size[rootu]\n",
    "            else:\n",
    "                self.par[rootv] = rootu\n",
    "                self.size[rootu] += self.size[rootv]\n",
    "    \n",
    "    #  要素 u と v が同一の集合（根）かどうかを返す関数\n",
    "    def issame(self, u, v):\n",
    "        return self.root(u) == self.root(v)"
   ]
  },
  {
   "cell_type": "code",
   "execution_count": null,
   "id": "9e6ac58f-2bab-49aa-93fc-27a0417ded5d",
   "metadata": {},
   "outputs": [],
   "source": []
  }
 ],
 "metadata": {
  "kernelspec": {
   "display_name": "Python 3 (ipykernel)",
   "language": "python",
   "name": "python3"
  },
  "language_info": {
   "codemirror_mode": {
    "name": "ipython",
    "version": 3
   },
   "file_extension": ".py",
   "mimetype": "text/x-python",
   "name": "python",
   "nbconvert_exporter": "python",
   "pygments_lexer": "ipython3",
   "version": "3.9.12"
  }
 },
 "nbformat": 4,
 "nbformat_minor": 5
}
