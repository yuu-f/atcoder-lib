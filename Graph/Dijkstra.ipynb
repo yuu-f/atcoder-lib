{
 "cells": [
  {
   "cell_type": "markdown",
   "id": "1b16c49b-2629-454d-8939-13ec58107028",
   "metadata": {
    "tags": []
   },
   "source": [
    "# ダイクストラ法(Dijkstra’s Algorithm)"
   ]
  },
  {
   "cell_type": "markdown",
   "id": "c98e8416-f616-4df8-b0d4-e3eef59fe209",
   "metadata": {},
   "source": [
    "重み付き無向グラフに対する単一始点最短経路問題を解ける。"
   ]
  },
  {
   "cell_type": "markdown",
   "id": "26b087d6-7244-4fe1-b72a-7e97ff70b983",
   "metadata": {},
   "source": [
    "## 計算量\n",
    "O((|E|+|V|)log|V|)"
   ]
  },
  {
   "cell_type": "markdown",
   "id": "7aafeec5-a821-4f42-9ef8-0d2c18e0363e",
   "metadata": {
    "tags": []
   },
   "source": [
    "## 実装"
   ]
  },
  {
   "cell_type": "code",
   "execution_count": 1,
   "id": "44d389c5-2299-47d2-8437-8ba074b378c5",
   "metadata": {},
   "outputs": [],
   "source": [
    "import heapq\n",
    "\n",
    "# N: 頂点数, G: 重み付き隣接リスト, s: スタート地点\n",
    "def dijkstra(N: int, G: list, s: int):\n",
    "    INF = 10**20\n",
    "    # スタート地点から各頂点の距離を初期化\n",
    "    dist = [INF]*(N+1)\n",
    "    dist[s] = 0\n",
    "    # キューを初期化, (距離, 地点)\n",
    "    que = [(0,s)]\n",
    "    \n",
    "    while que:\n",
    "        # 優先度付きキューから最小コストの頂点を取り出す\n",
    "        c,pos = heapq.heappop(que)\n",
    "        if dist[pos] < c:\n",
    "            continue\n",
    "        # 隣接頂点のコストを探索時点の最小値に更新しキューに挿入\n",
    "        for nex, cost in G[pos]:            \n",
    "            if dist[pos]+cost < dist[nex]:\n",
    "                dist[nex] = dist[pos]+cost\n",
    "                heapq.heappush(que, (dist[nex],nex))\n",
    "    return"
   ]
  },
  {
   "cell_type": "markdown",
   "id": "ddcff06c-6711-44c1-8454-c3fba5db4214",
   "metadata": {
    "tags": []
   },
   "source": [
    "## [使用例 1](https://atcoder.jp/contests/tessoku-book/tasks/tessoku_book_bl)"
   ]
  },
  {
   "cell_type": "markdown",
   "id": "f18ece8e-b742-4bbf-b52e-2da5856a0e9b",
   "metadata": {},
   "source": [
    "頂点数 N、辺数 M のグラフについて、頂点 1 から各頂点 k までの最短経路長を求める。(移動不可能な場合は −1 を出力)"
   ]
  },
  {
   "cell_type": "code",
   "execution_count": 2,
   "id": "18877635-3b15-4ae1-8f66-2861fd0adcff",
   "metadata": {},
   "outputs": [],
   "source": [
    "import heapq\n",
    "\n",
    "def dijkstra(N: int, G: list, s: int):\n",
    "    INF = 10**20\n",
    "    dist = [INF]*(N+1)\n",
    "    dist[s] = 0\n",
    "    que = [(0,s)]\n",
    "    \n",
    "    while que:\n",
    "        c,pos = heapq.heappop(que)\n",
    "        if dist[pos] < c:\n",
    "            continue\n",
    "        for nex, cost in G[pos]:\n",
    "            if dist[pos]+cost < dist[nex]:\n",
    "                dist[nex] = dist[pos]+cost\n",
    "                heapq.heappush(que, (dist[nex],nex))\n",
    "    return dist\n",
    "\n",
    "def setG(N, E):\n",
    "    G = [list() for _ in range(N+1)]\n",
    "    for a,b,cost in E:\n",
    "        G[a].append((b,cost))\n",
    "        G[b].append((a,cost))\n",
    "    return G"
   ]
  },
  {
   "cell_type": "code",
   "execution_count": 3,
   "id": "56c0771e-738f-467d-a039-15ed5ce84aa9",
   "metadata": {},
   "outputs": [
    {
     "name": "stdout",
     "output_type": "stream",
     "text": [
      "0\n",
      "15\n",
      "77\n",
      "20\n",
      "19\n",
      "27\n"
     ]
    }
   ],
   "source": [
    "N,M=6,7\n",
    "# 重み付き辺リスト\n",
    "E = [[1, 2, 15],\n",
    "     [1, 4, 20],\n",
    "     [2, 3, 65],\n",
    "     [2, 5, 4],\n",
    "     [3, 6, 50],\n",
    "     [4, 5, 30],\n",
    "     [5, 6, 8]]\n",
    "G=setG(N, E) # 重み付き隣接リスト\n",
    "\n",
    "ans=dijkstra(N, G, s=1)[1:]\n",
    "INF=10**20\n",
    "for a in ans:\n",
    "    if a!=INF:\n",
    "        print(a)\n",
    "    else:\n",
    "        print(-1)"
   ]
  },
  {
   "cell_type": "markdown",
   "id": "04024365-057b-4228-93de-a443179cf9f8",
   "metadata": {
    "tags": []
   },
   "source": [
    "## [使用例 2](https://atcoder.jp/contests/tessoku-book/tasks/tessoku_book_ek)"
   ]
  },
  {
   "cell_type": "markdown",
   "id": "d1da456b-dfc9-4018-9f2d-29a1d4caf382",
   "metadata": {},
   "source": [
    "頂点数 N、辺数 M の重み付き無向グラフに対して、頂点 1 から頂点 N までの具体的な最短経路を 1 つ出力する。"
   ]
  },
  {
   "cell_type": "code",
   "execution_count": 4,
   "id": "b2cb435e-6183-4b5c-99d1-9f51331cc7b9",
   "metadata": {},
   "outputs": [],
   "source": [
    "import heapq\n",
    "\n",
    "def dijkstra(N: int, G: list, s: int):\n",
    "    INF = 10**20\n",
    "    dist = [INF]*(N+1)\n",
    "    dist[s] = 0\n",
    "    que = [(0,s)]\n",
    "    \n",
    "    while que:\n",
    "        c,pos = heapq.heappop(que)\n",
    "        if dist[pos] < c:\n",
    "            continue\n",
    "        for nex, cost in G[pos]:\n",
    "            if dist[pos]+cost < dist[nex]:\n",
    "                dist[nex] = dist[pos]+cost\n",
    "                heapq.heappush(que, (dist[nex],nex))\n",
    "    return dist\n",
    "\n",
    "def dijkstra_restore(N: int, G: list, s: int, dist: list):\n",
    "    # ゴールから復元, 中間地点でも最短経路となる\n",
    "    path = []\n",
    "    pos = N\n",
    "    path.append(pos)\n",
    "    while pos != 1:\n",
    "        for prev,cost in G[pos]:\n",
    "            if dist[pos]-cost == dist[prev]:               \n",
    "                pos = prev\n",
    "                break\n",
    "        path.append(pos)\n",
    "    return path\n",
    "\n",
    "def setG(N, E):\n",
    "    G = [list() for _ in range(N+1)]\n",
    "    for a,b,cost in E:\n",
    "        G[a].append((b,cost))\n",
    "        G[b].append((a,cost))\n",
    "    return G"
   ]
  },
  {
   "cell_type": "code",
   "execution_count": 5,
   "id": "4122a4f0-8d92-4591-92b7-b3cc720908c4",
   "metadata": {},
   "outputs": [
    {
     "name": "stdout",
     "output_type": "stream",
     "text": [
      "1 2 5 6\n"
     ]
    }
   ],
   "source": [
    "N,M=6,7\n",
    "# 重み付き辺リスト\n",
    "E = [[1, 2, 15],\n",
    "     [1, 4, 20],\n",
    "     [2, 3, 65],\n",
    "     [2, 5, 4],\n",
    "     [3, 6, 50],\n",
    "     [4, 5, 30],\n",
    "     [5, 6, 8]]\n",
    "G=setG(N, E) # 重み付き隣接リスト\n",
    "\n",
    "dist=dijkstra(N, G, 1)\n",
    "ans=dijkstra_restore(N, G, 1, dist)[::-1]\n",
    "print(*ans)"
   ]
  },
  {
   "cell_type": "code",
   "execution_count": null,
   "id": "9e6ac58f-2bab-49aa-93fc-27a0417ded5d",
   "metadata": {},
   "outputs": [],
   "source": []
  }
 ],
 "metadata": {
  "kernelspec": {
   "display_name": "Python 3 (ipykernel)",
   "language": "python",
   "name": "python3"
  },
  "language_info": {
   "codemirror_mode": {
    "name": "ipython",
    "version": 3
   },
   "file_extension": ".py",
   "mimetype": "text/x-python",
   "name": "python",
   "nbconvert_exporter": "python",
   "pygments_lexer": "ipython3",
   "version": "3.9.12"
  }
 },
 "nbformat": 4,
 "nbformat_minor": 5
}
