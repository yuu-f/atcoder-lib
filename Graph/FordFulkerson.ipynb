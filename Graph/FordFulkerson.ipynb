{
 "cells": [
  {
   "cell_type": "markdown",
   "id": "1b16c49b-2629-454d-8939-13ec58107028",
   "metadata": {
    "tags": []
   },
   "source": [
    "# Ford-Fullkerson法(Ford-Fulkerson Algorithm)"
   ]
  },
  {
   "cell_type": "markdown",
   "id": "c98e8416-f616-4df8-b0d4-e3eef59fe209",
   "metadata": {},
   "source": [
    "最大フロー問題を解ける。<br>\n",
    "重み付きグラフ G(V, E) に対して、流入点 s から流出点 t までの総流量を最大化する問題。"
   ]
  },
  {
   "cell_type": "markdown",
   "id": "26b087d6-7244-4fe1-b72a-7e97ff70b983",
   "metadata": {},
   "source": [
    "## 計算量\n",
    "O(|F|×|E|)<br>\n",
    "F: 最大フロー"
   ]
  },
  {
   "cell_type": "markdown",
   "id": "7aafeec5-a821-4f42-9ef8-0d2c18e0363e",
   "metadata": {
    "tags": []
   },
   "source": [
    "## 実装\n",
    "1. 残余グラフ上で頂点s-t間の適当なパスを見つける\n",
    "2. 見つけたパス上で流せる最大フロー F (パス上の辺の容量の最小値) を流し、残余グラフを更新する (正方向は流量 F を減算, 逆方向は流量 F を加算)\n",
    "3. 手順 1 でパスが見つからなくなるまで、手順 1 と手順 2 を繰り返す"
   ]
  },
  {
   "cell_type": "code",
   "execution_count": 1,
   "id": "44d389c5-2299-47d2-8437-8ba074b378c5",
   "metadata": {},
   "outputs": [],
   "source": [
    "class FordFulkerson:\n",
    "    def __init__(self, N: int):\n",
    "        self.N = N\n",
    "        # 残余グラフを準備\n",
    "        self.G = [list() for i in range(N+1)]\n",
    "    \n",
    "    # 残余グラフとなる重み付き隣接頂点リストを初期化、容量 cap の辺 (u: fr, v: to) がある\n",
    "    def add_edge(self, fr: int, to: int, cap):\n",
    "        # forward: 頂点 fr → to に向けて増やせるフロー (初期値: cap) を格納\n",
    "        forward = [to, cap, None]\n",
    "        # backward: 頂点 to → fr に向けて戻せるフロー (初期値 0) を格納\n",
    "        # さらに、forward[2] = backward, backward[2] = forword として、\n",
    "        # 逆方向に対応する辺を取得できるようにしておく\n",
    "        forward[2] = backward = [fr, 0, forward]\n",
    "        # 残余グラフへ、forward, backward を格納\n",
    "        self.G[fr].append(forward)\n",
    "        self.G[to].append(backward)\n",
    "    \n",
    "    # 双方向に容量が定義される場合に使用\n",
    "    def add_multi_edge(self, v1, v2, cap1, cap2):\n",
    "        edge1 = [v2, cap1, None]\n",
    "        edge1[2] = edge2 = [v1, cap2, edge1]\n",
    "        self.G[v1].append(edge1)\n",
    "        self.G[v2].append(edge2)\n",
    "    \n",
    "    # 深さ優先探索\n",
    "    # pos: 探索のスタート地点, goal: 出口の頂点, f: 流せるフローの最大値\n",
    "    def dfs(self, pos, goal, f):\n",
    "        if pos == goal:\n",
    "            # ゴールに到着できる経路を一つ見つけた、流量 f のフローを流せる\n",
    "            return f\n",
    "        # visited: 探索済みフラグ\n",
    "        visited = self.visited\n",
    "        visited[pos] = True\n",
    "        for e in self.G[pos]:\n",
    "            # nex: 次に探索のスタート地点とする pos の隣接頂点, rev: 逆方向に対応する辺\n",
    "            nex, cap, rev = e\n",
    "            # 容量 cap が 1 以上でかつ、まだ探索していない頂点を探索\n",
    "            if cap > 0 and not visited[nex]:\n",
    "                # flow: ゴールに到着して初めて、f >= 1 となる値が返される (再帰処理)\n",
    "                # f = min(min(f, cap)) でゴールに到着する経路内に流せる最大フローを更新\n",
    "                flow = self.dfs(nex, goal, min(f, cap))\n",
    "                # 経路内の辺に対応する残余グラフを更新していく\n",
    "                if flow >= 1:\n",
    "                    # 増やせるフローを減算\n",
    "                    e[1] -= flow\n",
    "                    # 戻せるフローを加算\n",
    "                    rev[1] += flow\n",
    "                    # 再帰元の関数に flow を返して伝搬\n",
    "                    return flow               \n",
    "        # 全ての辺を探索したが、ゴールまでのフローが存在しない\n",
    "        return 0\n",
    "    \n",
    "    # 頂点 s から頂点 t までの最大フローの総流量を返す\n",
    "    def maxflow(self, s, t):\n",
    "        total_flow = 0\n",
    "        f = INF = 10**15\n",
    "        N = self.N\n",
    "        # ゴールとなる頂点 t までフローを流せる経路が見つからなくなったら終了\n",
    "        while f:\n",
    "            self.visited = [False] * (N+1)\n",
    "            f = self.dfs(s, t, INF)\n",
    "            total_flow += f\n",
    "        return total_flow"
   ]
  },
  {
   "cell_type": "markdown",
   "id": "ddcff06c-6711-44c1-8454-c3fba5db4214",
   "metadata": {
    "tags": []
   },
   "source": [
    "## [使用例 1](https://atcoder.jp/contests/tessoku-book/tasks/tessoku_book_bp)"
   ]
  },
  {
   "cell_type": "markdown",
   "id": "f18ece8e-b742-4bbf-b52e-2da5856a0e9b",
   "metadata": {},
   "source": [
    "タンク 1 からタンク N まで毎秒最大何リットルの水を流せるか。"
   ]
  },
  {
   "cell_type": "code",
   "execution_count": 2,
   "id": "56c0771e-738f-467d-a039-15ed5ce84aa9",
   "metadata": {},
   "outputs": [
    {
     "data": {
      "text/plain": [
       "8"
      ]
     },
     "execution_count": 2,
     "metadata": {},
     "output_type": "execute_result"
    }
   ],
   "source": [
    "N,M = 6,7\n",
    "E = [[1, 2, 5], \n",
    "     [1, 4, 4], \n",
    "     [2, 3, 4], \n",
    "     [2, 5, 7], \n",
    "     [3, 6, 3], \n",
    "     [4, 5, 3], \n",
    "     [5, 6, 5]]\n",
    "\n",
    "ff = FordFulkerson(N)\n",
    "for u,v,c in E:\n",
    "    ff.add_edge(u, v, c)\n",
    "\n",
    "ff.maxflow(1, N)"
   ]
  },
  {
   "cell_type": "code",
   "execution_count": null,
   "id": "9e6ac58f-2bab-49aa-93fc-27a0417ded5d",
   "metadata": {},
   "outputs": [],
   "source": []
  },
  {
   "cell_type": "code",
   "execution_count": null,
   "id": "045d8430-fd89-4819-a47e-bb3972e9cdea",
   "metadata": {},
   "outputs": [],
   "source": []
  }
 ],
 "metadata": {
  "kernelspec": {
   "display_name": "Python 3 (ipykernel)",
   "language": "python",
   "name": "python3"
  },
  "language_info": {
   "codemirror_mode": {
    "name": "ipython",
    "version": 3
   },
   "file_extension": ".py",
   "mimetype": "text/x-python",
   "name": "python",
   "nbconvert_exporter": "python",
   "pygments_lexer": "ipython3",
   "version": "3.9.12"
  }
 },
 "nbformat": 4,
 "nbformat_minor": 5
}
