{
 "cells": [
  {
   "cell_type": "markdown",
   "id": "1b16c49b-2629-454d-8939-13ec58107028",
   "metadata": {
    "tags": []
   },
   "source": [
    "# 幅優先探索(Breadth First Search, BFS)"
   ]
  },
  {
   "cell_type": "markdown",
   "id": "c98e8416-f616-4df8-b0d4-e3eef59fe209",
   "metadata": {},
   "source": [
    ">https://manabitimes.jp/math/1247<br>\n",
    ">出発点に近い点から順に探索するという方法"
   ]
  },
  {
   "cell_type": "markdown",
   "id": "26b087d6-7244-4fe1-b72a-7e97ff70b983",
   "metadata": {},
   "source": [
    "## 計算量\n",
    "O(|V|+|E|)"
   ]
  },
  {
   "cell_type": "markdown",
   "id": "7aafeec5-a821-4f42-9ef8-0d2c18e0363e",
   "metadata": {
    "tags": []
   },
   "source": [
    "## 実装"
   ]
  },
  {
   "cell_type": "code",
   "execution_count": 1,
   "id": "44d389c5-2299-47d2-8437-8ba074b378c5",
   "metadata": {},
   "outputs": [],
   "source": [
    "from collections import deque\n",
    "\n",
    "# N: 頂点数, G: 隣接リスト, s: スタート地点\n",
    "def bfs(N: int, G: list, s: int):\n",
    "    INF=-1\n",
    "    # 各頂点の距離を格納\n",
    "    dist=[INF]*(N+1)\n",
    "    dist[s]=0\n",
    "    # キューを初期化\n",
    "    q=deque()\n",
    "    q.append(s)\n",
    "\n",
    "    while q:\n",
    "        # キューから探索用の頂点を取り出す\n",
    "        pos=q.popleft()\n",
    "        for nex in G[pos]:\n",
    "            # 未探索なら距離を確定し、探索用のキューに入れる\n",
    "            if dist[nex]!=INF: continue\n",
    "            dist[nex]=dist[pos]+1\n",
    "            q.append(nex)\n",
    "    return"
   ]
  },
  {
   "cell_type": "markdown",
   "id": "ddcff06c-6711-44c1-8454-c3fba5db4214",
   "metadata": {
    "tags": []
   },
   "source": [
    "## [使用例 1](https://atcoder.jp/contests/tessoku-book/tasks/math_and_algorithm_an)"
   ]
  },
  {
   "cell_type": "markdown",
   "id": "f18ece8e-b742-4bbf-b52e-2da5856a0e9b",
   "metadata": {},
   "source": [
    "頂点数 N、辺数 M のグラフについて、頂点 1 から各頂点 k までの辺の本数を出力する。(移動不可能な場合は −1 を出力)"
   ]
  },
  {
   "cell_type": "code",
   "execution_count": 2,
   "id": "18877635-3b15-4ae1-8f66-2861fd0adcff",
   "metadata": {},
   "outputs": [],
   "source": [
    "from collections import deque\n",
    "\n",
    "def bfs(N: int, G: list, s: int):\n",
    "    INF=-1\n",
    "    dist=[INF]*(N+1)\n",
    "    dist[s]=0\n",
    "    q=deque()\n",
    "    q.append(s)\n",
    "    while q:\n",
    "        pos=q.popleft()\n",
    "        for nex in G[pos]:\n",
    "            if dist[nex]!=INF: continue\n",
    "            dist[nex]=dist[pos]+1\n",
    "            q.append(nex)\n",
    "    return dist\n",
    "\n",
    "def setG(E):\n",
    "    G=[list() for _ in range(N+1)]\n",
    "    for a,b in E:\n",
    "        G[a].append(b)\n",
    "        G[b].append(a)\n",
    "    return G"
   ]
  },
  {
   "cell_type": "code",
   "execution_count": 3,
   "id": "56c0771e-738f-467d-a039-15ed5ce84aa9",
   "metadata": {},
   "outputs": [
    {
     "data": {
      "text/plain": [
       "[0, 2, 1]"
      ]
     },
     "execution_count": 3,
     "metadata": {},
     "output_type": "execute_result"
    }
   ],
   "source": [
    "N=3\n",
    "M=2\n",
    "E=[[1,3],[2,3]] # 辺リスト\n",
    "G=setG(E) # 隣接リスト\n",
    "\n",
    "bfs(N, G, 1)[1:]"
   ]
  },
  {
   "cell_type": "code",
   "execution_count": 4,
   "id": "9daede5b-10b3-488e-b66f-21bad0d46d1d",
   "metadata": {},
   "outputs": [
    {
     "data": {
      "text/plain": [
       "[0, 1, 2, 1, -1, -1]"
      ]
     },
     "execution_count": 4,
     "metadata": {},
     "output_type": "execute_result"
    }
   ],
   "source": [
    "N=6\n",
    "M=6\n",
    "E=[[1,4],[2,3],[3,4],[5,6],[1,2],[2,4]]\n",
    "G=setG(E)\n",
    "\n",
    "bfs(N, G, 1)[1:]"
   ]
  },
  {
   "cell_type": "markdown",
   "id": "04024365-057b-4228-93de-a443179cf9f8",
   "metadata": {
    "tags": []
   },
   "source": [
    "## [使用例 2](https://atcoder.jp/contests/tessoku-book/tasks/abc007_3)"
   ]
  },
  {
   "cell_type": "markdown",
   "id": "d1da456b-dfc9-4018-9f2d-29a1d4caf382",
   "metadata": {},
   "source": [
    "迷路を解くのに必要な最小移動手数を求める。"
   ]
  },
  {
   "cell_type": "code",
   "execution_count": 5,
   "id": "b2cb435e-6183-4b5c-99d1-9f51331cc7b9",
   "metadata": {},
   "outputs": [],
   "source": [
    "from collections import deque\n",
    "\n",
    "def nex(R,C,pos_y,pos_x):\n",
    "    R-=1\n",
    "    C-=1\n",
    "    _nex=[]\n",
    "    if pos_y-1>=0 and xy[pos_y][pos_x]==\".\":\n",
    "        _nex.append([pos_y-1,pos_x])\n",
    "    if pos_y+1<=R and xy[pos_y][pos_x]==\".\":\n",
    "        _nex.append([pos_y+1,pos_x])\n",
    "    if pos_x-1>=0 and xy[pos_y][pos_x]==\".\":\n",
    "        _nex.append([pos_y,pos_x-1])\n",
    "    if pos_x+1<=C and xy[pos_y][pos_x]==\".\":\n",
    "        _nex.append([pos_y,pos_x+1])    \n",
    "    return _nex\n",
    "\n",
    "def bfs(R,C,Sy,Sx,Gy,Gx,xy):\n",
    "    Sy-=1\n",
    "    Sx-=1\n",
    "    Gy-=1\n",
    "    Gx-=1\n",
    "    INF=-1\n",
    "    dist=[[INF]*C for _ in range(R)]\n",
    "    dist[Sy][Sx]=0\n",
    "    q=deque()\n",
    "    q.append([Sy,Sx])\n",
    "    \n",
    "    while q:\n",
    "        pos_y,pos_x=q.popleft()\n",
    "        g=nex(R,C,pos_y,pos_x)\n",
    "        for nex_y,nex_x in g:\n",
    "            if dist[nex_y][nex_x]!=INF: continue\n",
    "            dist[nex_y][nex_x]=dist[pos_y][pos_x]+1\n",
    "            q.append([nex_y,nex_x])\n",
    "    return dist[Gy][Gx]"
   ]
  },
  {
   "cell_type": "code",
   "execution_count": 6,
   "id": "4122a4f0-8d92-4591-92b7-b3cc720908c4",
   "metadata": {},
   "outputs": [
    {
     "data": {
      "text/plain": [
       "10"
      ]
     },
     "execution_count": 6,
     "metadata": {},
     "output_type": "execute_result"
    }
   ],
   "source": [
    "R,C=5,8 # R: 行数, C:列数\n",
    "Sy,Sx=2,2 # スタートの座標\n",
    "Gy,Gx=2,4 # ゴールの座標\n",
    "# xy: 迷路, '#': 壁, '.': 道\n",
    "xy= [['#', '#', '#', '#', '#', '#', '#', '#'],\n",
    "     ['#', '.', '#', '.', '.', '.', '.', '#'],\n",
    "     ['#', '.', '#', '#', '#', '.', '.', '#'],\n",
    "     ['#', '.', '.', '.', '.', '.', '.', '#'],\n",
    "     ['#', '#', '#', '#', '#', '#', '#', '#']]\n",
    "\n",
    "bfs(R,C,Sy,Sx,Gy,Gx,xy)"
   ]
  },
  {
   "cell_type": "code",
   "execution_count": null,
   "id": "27ba1306-3018-45bc-b9d7-ab18277c5836",
   "metadata": {},
   "outputs": [],
   "source": []
  },
  {
   "cell_type": "code",
   "execution_count": null,
   "id": "8874913d-0e58-4e89-a37e-7b37edb0ce22",
   "metadata": {},
   "outputs": [],
   "source": []
  }
 ],
 "metadata": {
  "kernelspec": {
   "display_name": "Python 3 (ipykernel)",
   "language": "python",
   "name": "python3"
  },
  "language_info": {
   "codemirror_mode": {
    "name": "ipython",
    "version": 3
   },
   "file_extension": ".py",
   "mimetype": "text/x-python",
   "name": "python",
   "nbconvert_exporter": "python",
   "pygments_lexer": "ipython3",
   "version": "3.9.12"
  }
 },
 "nbformat": 4,
 "nbformat_minor": 5
}
